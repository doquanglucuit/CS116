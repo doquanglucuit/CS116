{
 "cells": [
  {
   "cell_type": "markdown",
   "id": "40a5c347-7bc6-44cd-92ca-e1db55b19541",
   "metadata": {},
   "source": [
    "# CÁC PHƯƠNG PHÁP BOOSTING VÀ ENSEMBLE"
   ]
  },
  {
   "cell_type": "markdown",
   "id": "4aba29ef-e6a7-40ab-ac23-4d6e8a6377bc",
   "metadata": {},
   "source": [
    "Trong notebook này, chúng ta sẽ tìm hiểu về các phương pháp không nằm trong bộ sklearn mà thường được sử dụng để thi các cuộc thi trên Kaggle và đạt được độ chính xác cao. Cụ thể, chúng ta sẽ tập trung vào các thuật toán Gradient Boosting như ***XGBoost***, ***LightGBM*** và ***CatBoost***. Chúng ta cũng sẽ tìm hiểu về cách kết hợp chúng bằng kỹ thuật Ensemble để cải thiện hiệu suất dự đoán."
   ]
  },
  {
   "cell_type": "markdown",
   "id": "1f50d125-5598-488e-9586-b3bd229ff1e3",
   "metadata": {},
   "source": [
    "### 1. Tải dữ liệu"
   ]
  },
  {
   "cell_type": "markdown",
   "id": "53d33abe-023c-48d2-9285-ee028928e78a",
   "metadata": {},
   "source": [
    "Trong bài này ta sẽ sữ dụng dữ liệu về ung thư vú được tải từ hàm `load_breast_cancer()` của module `sklearn.datasets`."
   ]
  },
  {
   "cell_type": "code",
   "execution_count": 1,
   "id": "075807dc-d236-43c4-a5e0-d57d865c39e8",
   "metadata": {},
   "outputs": [],
   "source": [
    "from sklearn.datasets import load_breast_cancer\n",
    "import pandas as pd\n",
    "\n",
    "# Tải dữ liệu\n",
    "breast_cancer = load_breast_cancer()\n",
    "X = breast_cancer.data\n",
    "y = breast_cancer.target\n",
    "\n",
    "# Tạo dataframe từ dữ liệu để dễ dàng quan sát\n",
    "df = pd.DataFrame(data=X, columns=breast_cancer.feature_names)\n",
    "df[\"target\"] = y"
   ]
  },
  {
   "cell_type": "code",
   "execution_count": 2,
   "id": "6c0a7077-db2f-4a75-a610-77d562434436",
   "metadata": {},
   "outputs": [
    {
     "data": {
      "text/html": [
       "<div>\n",
       "<style scoped>\n",
       "    .dataframe tbody tr th:only-of-type {\n",
       "        vertical-align: middle;\n",
       "    }\n",
       "\n",
       "    .dataframe tbody tr th {\n",
       "        vertical-align: top;\n",
       "    }\n",
       "\n",
       "    .dataframe thead th {\n",
       "        text-align: right;\n",
       "    }\n",
       "</style>\n",
       "<table border=\"1\" class=\"dataframe\">\n",
       "  <thead>\n",
       "    <tr style=\"text-align: right;\">\n",
       "      <th></th>\n",
       "      <th>mean radius</th>\n",
       "      <th>mean texture</th>\n",
       "      <th>mean perimeter</th>\n",
       "      <th>mean area</th>\n",
       "      <th>mean smoothness</th>\n",
       "      <th>mean compactness</th>\n",
       "      <th>mean concavity</th>\n",
       "      <th>mean concave points</th>\n",
       "      <th>mean symmetry</th>\n",
       "      <th>mean fractal dimension</th>\n",
       "      <th>...</th>\n",
       "      <th>worst texture</th>\n",
       "      <th>worst perimeter</th>\n",
       "      <th>worst area</th>\n",
       "      <th>worst smoothness</th>\n",
       "      <th>worst compactness</th>\n",
       "      <th>worst concavity</th>\n",
       "      <th>worst concave points</th>\n",
       "      <th>worst symmetry</th>\n",
       "      <th>worst fractal dimension</th>\n",
       "      <th>target</th>\n",
       "    </tr>\n",
       "  </thead>\n",
       "  <tbody>\n",
       "    <tr>\n",
       "      <th>0</th>\n",
       "      <td>17.99</td>\n",
       "      <td>10.38</td>\n",
       "      <td>122.80</td>\n",
       "      <td>1001.0</td>\n",
       "      <td>0.11840</td>\n",
       "      <td>0.27760</td>\n",
       "      <td>0.3001</td>\n",
       "      <td>0.14710</td>\n",
       "      <td>0.2419</td>\n",
       "      <td>0.07871</td>\n",
       "      <td>...</td>\n",
       "      <td>17.33</td>\n",
       "      <td>184.60</td>\n",
       "      <td>2019.0</td>\n",
       "      <td>0.1622</td>\n",
       "      <td>0.6656</td>\n",
       "      <td>0.7119</td>\n",
       "      <td>0.2654</td>\n",
       "      <td>0.4601</td>\n",
       "      <td>0.11890</td>\n",
       "      <td>0</td>\n",
       "    </tr>\n",
       "    <tr>\n",
       "      <th>1</th>\n",
       "      <td>20.57</td>\n",
       "      <td>17.77</td>\n",
       "      <td>132.90</td>\n",
       "      <td>1326.0</td>\n",
       "      <td>0.08474</td>\n",
       "      <td>0.07864</td>\n",
       "      <td>0.0869</td>\n",
       "      <td>0.07017</td>\n",
       "      <td>0.1812</td>\n",
       "      <td>0.05667</td>\n",
       "      <td>...</td>\n",
       "      <td>23.41</td>\n",
       "      <td>158.80</td>\n",
       "      <td>1956.0</td>\n",
       "      <td>0.1238</td>\n",
       "      <td>0.1866</td>\n",
       "      <td>0.2416</td>\n",
       "      <td>0.1860</td>\n",
       "      <td>0.2750</td>\n",
       "      <td>0.08902</td>\n",
       "      <td>0</td>\n",
       "    </tr>\n",
       "    <tr>\n",
       "      <th>2</th>\n",
       "      <td>19.69</td>\n",
       "      <td>21.25</td>\n",
       "      <td>130.00</td>\n",
       "      <td>1203.0</td>\n",
       "      <td>0.10960</td>\n",
       "      <td>0.15990</td>\n",
       "      <td>0.1974</td>\n",
       "      <td>0.12790</td>\n",
       "      <td>0.2069</td>\n",
       "      <td>0.05999</td>\n",
       "      <td>...</td>\n",
       "      <td>25.53</td>\n",
       "      <td>152.50</td>\n",
       "      <td>1709.0</td>\n",
       "      <td>0.1444</td>\n",
       "      <td>0.4245</td>\n",
       "      <td>0.4504</td>\n",
       "      <td>0.2430</td>\n",
       "      <td>0.3613</td>\n",
       "      <td>0.08758</td>\n",
       "      <td>0</td>\n",
       "    </tr>\n",
       "    <tr>\n",
       "      <th>3</th>\n",
       "      <td>11.42</td>\n",
       "      <td>20.38</td>\n",
       "      <td>77.58</td>\n",
       "      <td>386.1</td>\n",
       "      <td>0.14250</td>\n",
       "      <td>0.28390</td>\n",
       "      <td>0.2414</td>\n",
       "      <td>0.10520</td>\n",
       "      <td>0.2597</td>\n",
       "      <td>0.09744</td>\n",
       "      <td>...</td>\n",
       "      <td>26.50</td>\n",
       "      <td>98.87</td>\n",
       "      <td>567.7</td>\n",
       "      <td>0.2098</td>\n",
       "      <td>0.8663</td>\n",
       "      <td>0.6869</td>\n",
       "      <td>0.2575</td>\n",
       "      <td>0.6638</td>\n",
       "      <td>0.17300</td>\n",
       "      <td>0</td>\n",
       "    </tr>\n",
       "    <tr>\n",
       "      <th>4</th>\n",
       "      <td>20.29</td>\n",
       "      <td>14.34</td>\n",
       "      <td>135.10</td>\n",
       "      <td>1297.0</td>\n",
       "      <td>0.10030</td>\n",
       "      <td>0.13280</td>\n",
       "      <td>0.1980</td>\n",
       "      <td>0.10430</td>\n",
       "      <td>0.1809</td>\n",
       "      <td>0.05883</td>\n",
       "      <td>...</td>\n",
       "      <td>16.67</td>\n",
       "      <td>152.20</td>\n",
       "      <td>1575.0</td>\n",
       "      <td>0.1374</td>\n",
       "      <td>0.2050</td>\n",
       "      <td>0.4000</td>\n",
       "      <td>0.1625</td>\n",
       "      <td>0.2364</td>\n",
       "      <td>0.07678</td>\n",
       "      <td>0</td>\n",
       "    </tr>\n",
       "  </tbody>\n",
       "</table>\n",
       "<p>5 rows × 31 columns</p>\n",
       "</div>"
      ],
      "text/plain": [
       "   mean radius  mean texture  mean perimeter  mean area  mean smoothness  \\\n",
       "0        17.99         10.38          122.80     1001.0          0.11840   \n",
       "1        20.57         17.77          132.90     1326.0          0.08474   \n",
       "2        19.69         21.25          130.00     1203.0          0.10960   \n",
       "3        11.42         20.38           77.58      386.1          0.14250   \n",
       "4        20.29         14.34          135.10     1297.0          0.10030   \n",
       "\n",
       "   mean compactness  mean concavity  mean concave points  mean symmetry  \\\n",
       "0           0.27760          0.3001              0.14710         0.2419   \n",
       "1           0.07864          0.0869              0.07017         0.1812   \n",
       "2           0.15990          0.1974              0.12790         0.2069   \n",
       "3           0.28390          0.2414              0.10520         0.2597   \n",
       "4           0.13280          0.1980              0.10430         0.1809   \n",
       "\n",
       "   mean fractal dimension  ...  worst texture  worst perimeter  worst area  \\\n",
       "0                 0.07871  ...          17.33           184.60      2019.0   \n",
       "1                 0.05667  ...          23.41           158.80      1956.0   \n",
       "2                 0.05999  ...          25.53           152.50      1709.0   \n",
       "3                 0.09744  ...          26.50            98.87       567.7   \n",
       "4                 0.05883  ...          16.67           152.20      1575.0   \n",
       "\n",
       "   worst smoothness  worst compactness  worst concavity  worst concave points  \\\n",
       "0            0.1622             0.6656           0.7119                0.2654   \n",
       "1            0.1238             0.1866           0.2416                0.1860   \n",
       "2            0.1444             0.4245           0.4504                0.2430   \n",
       "3            0.2098             0.8663           0.6869                0.2575   \n",
       "4            0.1374             0.2050           0.4000                0.1625   \n",
       "\n",
       "   worst symmetry  worst fractal dimension  target  \n",
       "0          0.4601                  0.11890       0  \n",
       "1          0.2750                  0.08902       0  \n",
       "2          0.3613                  0.08758       0  \n",
       "3          0.6638                  0.17300       0  \n",
       "4          0.2364                  0.07678       0  \n",
       "\n",
       "[5 rows x 31 columns]"
      ]
     },
     "execution_count": 2,
     "metadata": {},
     "output_type": "execute_result"
    }
   ],
   "source": [
    "# Xem qua một vài dòng dữ liệu\n",
    "df.head()"
   ]
  },
  {
   "cell_type": "code",
   "execution_count": 3,
   "id": "4d7f8405-2230-417d-b617-277d80c7055a",
   "metadata": {},
   "outputs": [
    {
     "name": "stdout",
     "output_type": "stream",
     "text": [
      "<class 'pandas.core.frame.DataFrame'>\n",
      "RangeIndex: 569 entries, 0 to 568\n",
      "Data columns (total 31 columns):\n",
      " #   Column                   Non-Null Count  Dtype  \n",
      "---  ------                   --------------  -----  \n",
      " 0   mean radius              569 non-null    float64\n",
      " 1   mean texture             569 non-null    float64\n",
      " 2   mean perimeter           569 non-null    float64\n",
      " 3   mean area                569 non-null    float64\n",
      " 4   mean smoothness          569 non-null    float64\n",
      " 5   mean compactness         569 non-null    float64\n",
      " 6   mean concavity           569 non-null    float64\n",
      " 7   mean concave points      569 non-null    float64\n",
      " 8   mean symmetry            569 non-null    float64\n",
      " 9   mean fractal dimension   569 non-null    float64\n",
      " 10  radius error             569 non-null    float64\n",
      " 11  texture error            569 non-null    float64\n",
      " 12  perimeter error          569 non-null    float64\n",
      " 13  area error               569 non-null    float64\n",
      " 14  smoothness error         569 non-null    float64\n",
      " 15  compactness error        569 non-null    float64\n",
      " 16  concavity error          569 non-null    float64\n",
      " 17  concave points error     569 non-null    float64\n",
      " 18  symmetry error           569 non-null    float64\n",
      " 19  fractal dimension error  569 non-null    float64\n",
      " 20  worst radius             569 non-null    float64\n",
      " 21  worst texture            569 non-null    float64\n",
      " 22  worst perimeter          569 non-null    float64\n",
      " 23  worst area               569 non-null    float64\n",
      " 24  worst smoothness         569 non-null    float64\n",
      " 25  worst compactness        569 non-null    float64\n",
      " 26  worst concavity          569 non-null    float64\n",
      " 27  worst concave points     569 non-null    float64\n",
      " 28  worst symmetry           569 non-null    float64\n",
      " 29  worst fractal dimension  569 non-null    float64\n",
      " 30  target                   569 non-null    int32  \n",
      "dtypes: float64(30), int32(1)\n",
      "memory usage: 135.7 KB\n"
     ]
    }
   ],
   "source": [
    "# Xem kiểu dữ liệu và số giá trị rỗng của mỗi cột\n",
    "df.info()"
   ]
  },
  {
   "cell_type": "markdown",
   "id": "cf9d4b67-2e9f-4fca-809c-13d0b634b2ff",
   "metadata": {},
   "source": [
    "### 2. Tiền xử lí dữ liệu"
   ]
  },
  {
   "cell_type": "markdown",
   "id": "4b335508-06c9-4405-b2af-81313b9059ff",
   "metadata": {},
   "source": [
    "Vì dữ liệu ở các cột là kiểu số và không có giá trị rỗng nên ta chỉ cần chuẩn hóa dữ liệu sử dụng lớp `MinMaxScaler` từ module `sklearn.preprocessing`."
   ]
  },
  {
   "cell_type": "code",
   "execution_count": 4,
   "id": "0732697b-cae6-4064-acf8-9c7a6b974300",
   "metadata": {},
   "outputs": [],
   "source": [
    "from sklearn.preprocessing import MinMaxScaler\n",
    "\n",
    "scaler = MinMaxScaler()\n",
    "X = scaler.fit_transform(X)"
   ]
  },
  {
   "cell_type": "markdown",
   "id": "8ff00bd4-d984-4cfd-9e46-a2571795f7f6",
   "metadata": {},
   "source": [
    "Sau đó ta tiến hành chia tập dữ liệu thành 2 phần: tập train và tập test sử dụng hàm `train_test_split()` từ module `sklearn.model_selection` là xong phần chuẩn bị dữ liệu."
   ]
  },
  {
   "cell_type": "code",
   "execution_count": 5,
   "id": "49b69e9f-58ff-43a1-a461-8ce4a2264741",
   "metadata": {},
   "outputs": [],
   "source": [
    "from sklearn.model_selection import train_test_split\n",
    "\n",
    "X_train, X_test, y_train, y_test = train_test_split(X, y, test_size=0.2, random_state=42)"
   ]
  },
  {
   "cell_type": "markdown",
   "id": "41e950f9-5191-4bdb-b789-1a8483589361",
   "metadata": {},
   "source": [
    "### 3. Xây dựng các mô hình boosting"
   ]
  },
  {
   "cell_type": "markdown",
   "id": "3ce7bb31-2b2a-4625-88e0-a2ffb1fd386e",
   "metadata": {},
   "source": [
    "Chúng ta sẽ sử dụng những mô hình boosting được dùng nhiều từ những cuộc thi về machine learning trên Kaggle vì chúng có độ chính xác cao trên những dữ liệu thuộc kiểu bảng (tabular data). Những mô hình đó không có sẵn trong thư viện `sklearn` mà từ những thư viện."
   ]
  },
  {
   "cell_type": "markdown",
   "id": "d8a35699-2151-4338-b091-e9a5da0a582e",
   "metadata": {},
   "source": [
    "**Bài tập**: Hãy import 3 mô hình `XGBClassifier`, `LGBMClassifier`, `CatBoostClassifier` có sẵn lần lượt từ các thư viện `xgboost`, `lightgbm`, `catboost` (cài đặt trước đó bằng cách `pip install xgboost lightgbm catboost`) và gán vào những biến đã được khởi tạo bên dưới sao cho phù hợp. Lưu ý: Khởi tạo mỗi mô hình với tham số ***random_state=42*** đối với 2 mô hình `XGBClassifier` và `LGBMClassifier`."
   ]
  },
  {
   "cell_type": "code",
   "execution_count": null,
   "id": "8a87f74a-e5ec-43bf-bd42-006f312cfd65",
   "metadata": {},
   "outputs": [
    {
     "ename": "ModuleNotFoundError",
     "evalue": "No module named 'lightgbm'",
     "output_type": "error",
     "traceback": [
      "\u001b[1;31m---------------------------------------------------------------------------\u001b[0m",
      "\u001b[1;31mModuleNotFoundError\u001b[0m                       Traceback (most recent call last)",
      "Cell \u001b[1;32mIn[7], line 7\u001b[0m\n\u001b[0;32m      5\u001b[0m \u001b[38;5;66;03m### BEGIN SOLUTION\u001b[39;00m\n\u001b[0;32m      6\u001b[0m \u001b[38;5;28;01mimport\u001b[39;00m \u001b[38;5;21;01mxgboost\u001b[39;00m\n\u001b[1;32m----> 7\u001b[0m \u001b[38;5;28;01mimport\u001b[39;00m \u001b[38;5;21;01mlightgbm\u001b[39;00m\n\u001b[0;32m      8\u001b[0m \u001b[38;5;28;01mimport\u001b[39;00m \u001b[38;5;21;01mcatboost\u001b[39;00m\n\u001b[0;32m     11\u001b[0m \u001b[38;5;66;03m### END SOLUTION\u001b[39;00m\n",
      "\u001b[1;31mModuleNotFoundError\u001b[0m: No module named 'lightgbm'"
     ]
    }
   ],
   "source": [
    "xgboost_clf = None\n",
    "lgbm_clf = None\n",
    "catboost_clf = None\n",
    "\n",
    "### BEGIN SOLUTION\n",
    "import xgboost\n",
    "import lightgbm\n",
    "import catboost\n",
    "\n",
    "xgboost_clf = xgboost.XGBClassifier(random_state=42)\n",
    "lgbm_clf = lightgbm.LGBMClassifier(random_state=42)\n",
    "catboost_clf =  catboost.CatBoostClassifier()\n",
    "\n",
    "### END SOLUTION"
   ]
  },
  {
   "cell_type": "code",
   "execution_count": 7,
   "id": "12e0b833-e0b3-4733-8757-c72ed18a13de",
   "metadata": {},
   "outputs": [],
   "source": [
    "assert xgboost_clf is not None and lgbm_clf is not None and catboost_clf is not None"
   ]
  },
  {
   "cell_type": "markdown",
   "id": "c0b3f3e4-3ce8-4304-9f5b-5a8d82aac811",
   "metadata": {},
   "source": [
    "Ta tiến hành huấn luyện các mô hình trên trên tập train"
   ]
  },
  {
   "cell_type": "code",
   "execution_count": 10,
   "id": "b390d6f7-3a55-4183-bff2-111198708c9a",
   "metadata": {},
   "outputs": [
    {
     "data": {
      "text/plain": [
       "<catboost.core.CatBoostClassifier at 0x13fbca450>"
      ]
     },
     "execution_count": 10,
     "metadata": {},
     "output_type": "execute_result"
    }
   ],
   "source": [
    "xgboost_clf.fit(X_train, y_train)\n",
    "lgbm_clf.fit(X_train, y_train)\n",
    "catboost_clf.fit(X_train, y_train)"
   ]
  },
  {
   "cell_type": "markdown",
   "id": "fa2d4ab5-49e1-4a4f-aa66-2332be1aa87d",
   "metadata": {},
   "source": [
    "Sau khi huấn luyện thành công, ta sẽ đánh giá lần lượt từng mô hình trên tập test với metric là accuracy."
   ]
  },
  {
   "cell_type": "markdown",
   "id": "50d86cd0-d437-4092-8c3e-ba2863802d9d",
   "metadata": {},
   "source": [
    "**Bài tập**: Hãy sử dụng hàm `accuracy_score` từ module `sklearn.metrics` để tính toán độ chính xác của từng mô hình trên tập test và gán nó vào các biến đã tạo bên dưới sao cho phù hợp."
   ]
  },
  {
   "cell_type": "code",
   "execution_count": null,
   "id": "92083093-86e1-4c87-8fb7-8c1232f989bc",
   "metadata": {},
   "outputs": [],
   "source": [
    "xgboost_clf_acc = None\n",
    "lgbm_clf_acc = None\n",
    "catboost_clf_acc = None\n",
    "\n",
    "### BEGIN SOLUTION\n",
    "from sklearn.metrics import accuracy_score\n",
    "import numpy as np\n",
    "xgboost_clf_acc = np.float64(accuracy_score(xgboost_clf.predict(X_test), y_test))\n",
    "lgbm_clf_acc =np.float64(accuracy_score(lgbm_clf.predict(X_test), y_test))\n",
    "catboost_clf_acc = np.float64(accuracy_score(catboost_clf.predict(X_test), y_test))\n",
    "\n",
    "\n",
    "### END SOLUTION"
   ]
  },
  {
   "cell_type": "code",
   "execution_count": 12,
   "id": "83d1f719-01d5-48e2-9c7b-2571fa009358",
   "metadata": {},
   "outputs": [],
   "source": [
    "assert str(type(xgboost_clf_acc)) == \"<class 'numpy.float64'>\"\n",
    "assert str(type(lgbm_clf_acc)) == \"<class 'numpy.float64'>\"\n",
    "assert str(type(catboost_clf_acc)) == \"<class 'numpy.float64'>\""
   ]
  },
  {
   "cell_type": "markdown",
   "id": "74d2b657-37a4-4618-a02b-c4b48a15b947",
   "metadata": {},
   "source": [
    "In độ chính xác của từng mô hình, ta thấy rằng độ chính xác của chúng là khá cao so với những mô hình phân loại mà ta sử dụng trước đó."
   ]
  },
  {
   "cell_type": "code",
   "execution_count": 14,
   "id": "707990a7-1d7b-4fbc-85bc-51d0679389ce",
   "metadata": {},
   "outputs": [
    {
     "name": "stdout",
     "output_type": "stream",
     "text": [
      "XGBClassifier Accuracy:      0.956140350877193\n",
      "LGBMClassifier Accuracy:     0.9649122807017544\n",
      "CatBoostClassifier Accuracy: 0.9736842105263158\n"
     ]
    }
   ],
   "source": [
    "print(\"XGBClassifier Accuracy:     \", xgboost_clf_acc)\n",
    "print(\"LGBMClassifier Accuracy:    \", lgbm_clf_acc)\n",
    "print(\"CatBoostClassifier Accuracy:\", catboost_clf_acc)"
   ]
  },
  {
   "cell_type": "markdown",
   "id": "826030b4-2784-4d10-a78e-f2b8dfd50a2e",
   "metadata": {},
   "source": [
    "### 4. Ensemble Methods"
   ]
  },
  {
   "cell_type": "markdown",
   "id": "1b6498d8-73ad-462e-80a7-8d259773cec9",
   "metadata": {},
   "source": [
    "Trong Machine Learning, ***Ensemble Methods*** là một kỹ thuật mạnh mẽ được sử dụng để cải thiện hiệu suất của các mô hình dự đoán. Thay vì sử dụng một mô hình duy nhất để thực hiện dự đoán, Ensemble Methods kết hợp kết quả từ nhiều mô hình con để đưa ra dự đoán cuối cùng. Việc này có thể giúp giảm thiểu sai số và tăng tính ổn định của dự đoán.\n",
    "\n",
    "Các phương pháp Ensemble được sử dụng rộng rãi trong các cuộc thi trên Kaggle và các ứng dụng thực tế trong thế giới thực. Dưới đây, chúng ta sẽ tìm hiểu về hai kỹ thuật Ensemble phổ biến: ***Voting Classifier*** và ***Stacking Classifier***."
   ]
  },
  {
   "cell_type": "markdown",
   "id": "cdd95517-6d1f-4df6-9245-b8f497925960",
   "metadata": {},
   "source": [
    "#### 4.1. Voting Classifier"
   ]
  },
  {
   "cell_type": "markdown",
   "id": "62a0a361-671d-42c2-8010-9f96af997f97",
   "metadata": {},
   "source": [
    "***Voting Classifier*** là một phương pháp Ensemble đơn giản nhưng hiệu quả. Nó làm việc bằng cách kết hợp kết quả dự đoán từ nhiều mô hình con khác nhau. Có hai loại chính của ***Voting Classifier***:\n",
    "\n",
    "* ***Hard Voting***: Kết quả cuối cùng là kết quả của sự bỏ phiếu đa số giữa các mô hình con. Nếu hơn một nửa các mô hình dự đoán một lớp cụ thể, lớp đó sẽ được chọn là kết quả.\n",
    "\n",
    "* ***Soft Voting***: Kết quả cuối cùng là kết quả của sự bỏ phiếu dựa trên xác suất dự đoán của các mô hình con. Nó thường làm tốt hơn so với hard voting và phù hợp khi các mô hình con có khả năng ước tính xác suất."
   ]
  },
  {
   "cell_type": "markdown",
   "id": "4b4b6c2c-6e0a-4998-ae71-3f21e787a024",
   "metadata": {},
   "source": [
    "**Bài tập**: Hãy import lớp `VotingClassifier` từ module `sklearn.ensemble` và tạo một mô hình ensemble kết hợp từ 3 mô hình boosting phía trên và gán vào biến `voting_model` bên dưới. Lưu ý: Khởi tạo mô hình **voting** với tham số ***voting=\"soft\"***, sử dụng lại các mô hình boosting đã tạo."
   ]
  },
  {
   "cell_type": "code",
   "execution_count": null,
   "id": "f5740302-657e-4e44-9aa5-5016d9a7132c",
   "metadata": {},
   "outputs": [],
   "source": [
    "voting_model = None\n",
    "\n",
    "### BEGIN SOLUTION\n",
    "from sklearn.ensemble import VotingClassifier\n",
    "\n",
    "voting_model = VotingClassifier(estimators=[\n",
    "    ('xgboost', xgboost_clf), \n",
    "    ('lgbm', lgbm_clf), \n",
    "    ('catboost', catboost_clf)\n",
    "    ], \n",
    "    voting=\"soft\")\n",
    "### END SOLUTION"
   ]
  },
  {
   "cell_type": "code",
   "execution_count": 16,
   "id": "757dd96c-1db9-4514-bfaa-bf769eb99024",
   "metadata": {},
   "outputs": [],
   "source": [
    "assert voting_model.__class__.__name__ == \"VotingClassifier\"\n",
    "assert len(voting_model.estimators) == 3"
   ]
  },
  {
   "cell_type": "markdown",
   "id": "fb0f0aa7-f9eb-4b1a-8c4e-ea04abdd924f",
   "metadata": {},
   "source": [
    "Ta tiến hành huấn luyện và đánh giá mô hình voting thôi nào"
   ]
  },
  {
   "cell_type": "code",
   "execution_count": 18,
   "id": "dbdbb655-e1d4-4fe5-83fe-ed468a9fc36f",
   "metadata": {},
   "outputs": [
    {
     "name": "stdout",
     "output_type": "stream",
     "text": [
      "Voting Model Accuracy: 0.9736842105263158\n"
     ]
    }
   ],
   "source": [
    "from sklearn.metrics import accuracy_score\n",
    "\n",
    "voting_model.fit(X_train, y_train)\n",
    "print(\"Voting Model Accuracy:\",\n",
    "      accuracy_score(y_test, voting_model.predict(X_test)))"
   ]
  },
  {
   "cell_type": "markdown",
   "id": "31087a09-3682-45b9-ab5e-60dad2a1813f",
   "metadata": {},
   "source": [
    "#### 4.2. Stacking Classifier"
   ]
  },
  {
   "cell_type": "markdown",
   "id": "3c443440-09ac-42ac-bcc8-065ce115c5b1",
   "metadata": {},
   "source": [
    "***Stacking Classifier*** là một phương pháp Ensemble phức tạp hơn so với ***Voting Classifier***. Trong Stacking, các mô hình con được chia thành hai hoặc nhiều tầng (layers). Ở tầng đầu tiên (base layer), các mô hình con được huấn luyện trên dữ liệu huấn luyện và dự đoán trên dữ liệu kiểm tra. Sau đó, dự đoán từ các mô hình con ở tầng đầu tiên được sử dụng như đầu vào cho mô hình cấp cao hơn (meta-model) ở tầng thứ hai (meta layer) để dự đoán kết quả cuối cùng.\n",
    "\n",
    "Stacking thường cần nhiều tính toán hơn và sử dụng nhiều tài nguyên hơn so với Voting, nhưng nó có tiềm năng để tạo ra các ensemble mạnh hơn và cải thiện hiệu suất dự đoán.\n",
    "\n",
    "Cả hai kỹ thuật này đều có thể giúp cải thiện hiệu suất dự đoán của mô hình bằng cách kết hợp sức mạnh của nhiều mô hình con, tuy nhiên, bạn cần lựa chọn một trong số họ dựa trên bộ dữ liệu cụ thể và mục tiêu của bạn."
   ]
  },
  {
   "cell_type": "markdown",
   "id": "812d4f03-1320-445d-9030-9699679f2ee4",
   "metadata": {},
   "source": [
    "**Bài tập**: Hãy import lớp `StackingClassifier` từ module `sklearn.ensemble` và tạo một mô hình ensemble kết hợp từ 3 mô hình boosting phía trên theo thứ tự: `XGBClassifier`, `LGBMClassifier`, `CatBoostClassifier` với mô hình cuối cùng để kếp hợp dự đoán (tham số final_estimator) là `XGBClassifier` và gán vào biến `stacking_model` bên dưới. Lưu ý: sử dụng lại các mô hình boosting đã tạo."
   ]
  },
  {
   "cell_type": "code",
   "execution_count": null,
   "id": "98fa643f-1004-4596-a6ec-82901f31a400",
   "metadata": {},
   "outputs": [],
   "source": [
    "stacking_model = None\n",
    "\n",
    "### BEGIN SOLUTION\n",
    "\n",
    "\n",
    "from sklearn.ensemble import StackingClassifier\n",
    "\n",
    "stacking_model = StackingClassifier(estimators=[\n",
    "    ('xgboost', xgboost_clf),\n",
    "    ('lgbm', lgbm_clf),\n",
    "    ('catboost', catboost_clf)\n",
    "], final_estimator=xgboost.XGBClassifier(random_state=42))\n",
    "\n",
    "\n",
    "\n",
    "\n",
    "\n",
    "\n",
    "\n",
    "### END SOLUTION"
   ]
  },
  {
   "cell_type": "code",
   "execution_count": 20,
   "id": "255657f5-993b-4028-a42e-b2012b0b4012",
   "metadata": {},
   "outputs": [],
   "source": [
    "assert stacking_model.__class__.__name__ == \"StackingClassifier\"\n",
    "assert len(stacking_model.estimators) == 3"
   ]
  },
  {
   "cell_type": "markdown",
   "id": "2f7f9ce0-4dde-4995-9335-a580eeb356ba",
   "metadata": {},
   "source": [
    "Ta tiến hành huấn luyện và đánh giá mô hình stacking tương tự như trên."
   ]
  },
  {
   "cell_type": "code",
   "execution_count": 22,
   "id": "2ae12138-1c11-40ac-9682-07f612e71440",
   "metadata": {},
   "outputs": [
    {
     "name": "stdout",
     "output_type": "stream",
     "text": [
      "Stacking Model Accuracy: 0.9649122807017544\n"
     ]
    }
   ],
   "source": [
    "stacking_model.fit(X_train, y_train)\n",
    "print(\"Stacking Model Accuracy:\",\n",
    "      accuracy_score(y_test, stacking_model.predict(X_test)))"
   ]
  },
  {
   "cell_type": "markdown",
   "id": "c40914f2-ca6e-47f2-a1bc-2c0d98ba32d6",
   "metadata": {},
   "source": [
    "### 5. Kết Luận\n",
    "\n",
    "Trong notebook này, chúng ta đã tìm hiểu về các phương pháp không nằm trong bộ sklearn như XGBoost, LightGBM và CatBoost, những mô hình thông dụng trong các cuộc thi trên Kaggle để đạt được độ chính xác cao. Chúng ta đã thực hiện các bước cơ bản từ tiền xử lý dữ liệu, huấn luyện các mô hình, và đánh giá hiệu suất trên tập kiểm tra.\n",
    "\n",
    "Một số điểm quan trọng cần lưu ý:\n",
    "- XGBoost, LightGBM và CatBoost là các mô hình mạnh mẽ có thể mang lại kết quả tốt trên nhiều loại dữ liệu khác nhau.\n",
    "- Lựa chọn mô hình thường dựa trên thử nghiệm và kiến thức về từng thuật toán. XGBoost thường là một lựa chọn tốt để bắt đầu, nhưng LightGBM và CatBoost có thể mang lại kết quả tốt hơn trong một số trường hợp.\n",
    "- Kỹ thuật Ensemble, như sử dụng `VotingClassifier`, có thể cải thiện độ chính xác của mô hình bằng cách kết hợp sức mạnh của các mô hình khác nhau.\n",
    "\n",
    "Hãy nhớ rằng để thành công trên Kaggle hoặc trong bất kỳ dự án Machine Learning nào, việc thử nghiệm và tinh chỉnh là quan trọng. Hãy luôn cân nhắc và tùy chỉnh phương pháp của mình để phù hợp với bài toán cụ thể và dữ liệu của bạn.\n",
    "\n",
    "Chúc các bạn thành công trong việc tham gia các cuộc thi trên Kaggle và trong việc áp dụng Machine Learning vào thực tế!\n"
   ]
  }
 ],
 "metadata": {
  "colab": {
   "provenance": []
  },
  "kernelspec": {
   "display_name": "Python 3",
   "language": "python",
   "name": "python3"
  },
  "language_info": {
   "codemirror_mode": {
    "name": "ipython",
    "version": 3
   },
   "file_extension": ".py",
   "mimetype": "text/x-python",
   "name": "python",
   "nbconvert_exporter": "python",
   "pygments_lexer": "ipython3",
   "version": "3.11.4"
  }
 },
 "nbformat": 4,
 "nbformat_minor": 5
}

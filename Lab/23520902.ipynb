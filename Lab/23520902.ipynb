{
 "cells": [
  {
   "cell_type": "markdown",
   "id": "ae8807b1",
   "metadata": {
    "id": "ae8807b1"
   },
   "source": [
    "# 🏠 Bài tập mở rộng: Tuning các mô hình hồi quy dự đoán giá nhà"
   ]
  },
  {
   "cell_type": "markdown",
   "id": "71b9d9c1",
   "metadata": {
    "id": "71b9d9c1"
   },
   "source": [
    "\n",
    "## 🎯 Mục tiêu\n",
    "- Dự đoán giá nhà là một bài toán hồi quy kinh điển trong lĩnh vực học máy, yêu cầu mô hình học được quan hệ phi tuyến giữa các đặc trưng (như thu nhập, mật độ dân cư, diện tích nhà, v.v.) và giá nhà.\n",
    "- Các mô hình học máy có nhiều siêu tham số (hyperparameters) ảnh hưởng lớn đến hiệu suất dự đoán. Việc hiểu, tinh chỉnh và đánh giá các mô hình sẽ giúp:\n",
    "\n",
    "  *   Hiểu được tác động của từng tham số lên kết quả dự đoán.\n",
    "  *   Phân tích và trực quan hóa quá trình tuning qua biểu đồ parallel_coordinates.\n",
    "  *  Kỹ thuật tuning hyperparameters bằng GridSearchCV,..\n",
    "\n",
    "\n",
    "- Xây dựng và tinh chỉnh 5 mô hình hồi quy, so sánh hiệu năng, phân tích ảnh hưởng của từng tham số và rút ra kết luận về hiệu quả của từng mô hình. Tuning tham số bằng `GridSearchCV` cho 5 mô hình:\n",
    "  - `SVR`\n",
    "  - `KNeighborsRegressor`\n",
    "  - `RandomForestRegressor`\n",
    "  - `DecisionTreeRegressor`\n",
    "  - `Ridge`\n",
    "- Đánh giá hiệu suất mô hình bằng MSE, MAE và R².\n"
   ]
  },
  {
   "cell_type": "code",
   "execution_count": 26,
   "id": "407ff443",
   "metadata": {
    "id": "407ff443"
   },
   "outputs": [],
   "source": [
    "import numpy as np\n",
    "import pandas as pd\n",
    "import matplotlib.pyplot as plt\n",
    "from sklearn.model_selection import train_test_split, GridSearchCV\n",
    "from sklearn.preprocessing import MinMaxScaler, StandardScaler\n",
    "from sklearn.pipeline import make_pipeline\n",
    "from sklearn.metrics import mean_squared_error, mean_absolute_error, r2_score\n",
    "\n",
    "from sklearn.svm import SVR\n",
    "from sklearn.neighbors import KNeighborsRegressor\n",
    "from sklearn.ensemble import RandomForestRegressor\n",
    "from sklearn.tree import DecisionTreeRegressor\n",
    "from sklearn.linear_model import Ridge"
   ]
  },
  {
   "cell_type": "markdown",
   "id": "nDW6wGv6d9GG",
   "metadata": {
    "id": "nDW6wGv6d9GG"
   },
   "source": [
    "# Tiền xử lý dữ liệu"
   ]
  },
  {
   "cell_type": "code",
   "execution_count": 27,
   "id": "cab1ad96",
   "metadata": {
    "id": "cab1ad96"
   },
   "outputs": [],
   "source": [
    "# Đọc dữ liệu và xử lý\n",
    "df = pd.read_csv('./USA_Housing.csv')\n",
    "df = df.drop('Address', axis=1)\n",
    "\n",
    "# Scale 2 cột đặc trưng\n",
    "scale = MinMaxScaler()\n",
    "df['Avg. Area Income'] = scale.fit_transform(np.array(df['Avg. Area Income']).reshape(-1, 1))\n",
    "df['Area Population'] = scale.fit_transform(np.array(df['Area Population']).reshape(-1, 1))\n",
    "\n",
    "# Tách X, y\n",
    "y = df['Price']\n",
    "x = df.drop('Price', axis=1)\n",
    "\n",
    "# Chia train/test\n",
    "x_train, x_test, y_train, y_test = train_test_split(x, y, test_size=0.01, random_state=42)"
   ]
  },
  {
   "cell_type": "code",
   "execution_count": 28,
   "id": "f3df7fcb",
   "metadata": {
    "id": "f3df7fcb"
   },
   "outputs": [],
   "source": [
    "def evaluate_model(model, param_grid, X_train, y_train, X_test, y_test, model_name=\"Model\"):\n",
    "    grid = GridSearchCV(model, param_grid, cv=5, scoring='mean_squared_error', n_jobs=-1)\n",
    "    grid.fit(X_train, y_train)\n",
    "\n",
    "    y_pred = grid.predict(X_test)\n",
    "    mse = mean_squared_error(y_test, y_pred)\n",
    "    mae = mean_absolute_error(y_test, y_pred)\n",
    "    r2 = r2_score(y_test, y_pred)\n",
    "\n",
    "    print(f\"\\n📌 {model_name}\")\n",
    "    print(\"Best parameters:\", grid.best_params_)\n",
    "    print(f\"Test MSE: {mse:.4f}\")\n",
    "    print(f\"Test MAE: {mae:.4f}\")\n",
    "    print(f\"Test R² : {r2:.4f}\")\n",
    "\n",
    "    return grid.best_estimator_\n"
   ]
  },
  {
   "cell_type": "code",
   "execution_count": 29,
   "id": "uFoWq2CHbBw1",
   "metadata": {
    "id": "uFoWq2CHbBw1"
   },
   "outputs": [],
   "source": [
    "def compare_default_and_tuned_models(x_train, x_test, y_train, y_test, best_estimator, model_name=\"Model\"):\n",
    "    \"\"\"\n",
    "    So sánh trực quan mô hình mặc định và mô hình đã tuning cho bất kỳ mô hình hồi quy nào.\n",
    "    \"\"\"\n",
    "\n",
    "    # Lấy class gốc của mô hình để tạo phiên bản mặc định\n",
    "    model_class = best_estimator.__class__\n",
    "    default_model = model_class()\n",
    "    default_model.fit(x_train, y_train)\n",
    "    y_pred_default = default_model.predict(x_test)\n",
    "    y_pred_tuned = best_estimator.predict(x_test)\n",
    "\n",
    "    # Tính metric cho cả hai mô hình\n",
    "    metrics = lambda y_true, y_pred: {\n",
    "        \"MSE\": mean_squared_error(y_true, y_pred),\n",
    "        \"MAE\": mean_absolute_error(y_true, y_pred),\n",
    "        \"R²\": r2_score(y_true, y_pred)\n",
    "    }\n",
    "    default_metrics = metrics(y_test, y_pred_default)\n",
    "    tuned_metrics = metrics(y_test, y_pred_tuned)\n",
    "\n",
    "    # Trực quan hóa\n",
    "    fig, axes = plt.subplots(1, 2, figsize=(14, 6))\n",
    "\n",
    "    # Mô hình mặc định\n",
    "    axes[0].scatter(y_test, y_pred_default, c='red', alpha=0.6)\n",
    "    axes[0].plot([min(y_test), max(y_test)], [min(y_test), max(y_test)], '-', label=\"Đường lý tưởng\")\n",
    "    axes[0].set_title(f\"{model_name} - Mặc định\\nMSE: {default_metrics['MSE']:.3f} | MAE: {default_metrics['MAE']:.3f}\")\n",
    "    axes[0].set_xlabel(\"Giá trị thực tế\")\n",
    "    axes[0].set_ylabel(\"Giá trị dự đoán\")\n",
    "    axes[0].legend()\n",
    "\n",
    "    # Mô hình đã tuning\n",
    "    axes[1].scatter(y_test, y_pred_tuned, c='blue', alpha=0.6)\n",
    "    axes[1].plot([min(y_test), max(y_test)], [min(y_test), max(y_test)], '-', label=\"Đường lý tưởng\")\n",
    "    axes[1].set_title(f\"{model_name} - Tối ưu\\nMSE: {tuned_metrics['MSE']:.3f} | MAE: {tuned_metrics['MAE']:.3f}\")\n",
    "    axes[1].set_xlabel(\"Giá trị thực tế\")\n",
    "    axes[1].set_ylabel(\"Giá trị dự đoán\")\n",
    "    axes[1].legend()\n",
    "\n",
    "    plt.suptitle(f\"So sánh hiệu suất: {model_name}\", fontsize=14)\n",
    "    plt.tight_layout(rect=[0, 0.03, 1, 0.95])\n",
    "    plt.show()\n"
   ]
  },
  {
   "cell_type": "code",
   "execution_count": 30,
   "id": "d9fc4b2f",
   "metadata": {
    "id": "d9fc4b2f"
   },
   "outputs": [],
   "source": [
    "# Xây dựng từ điển param_grids chứa các tập hợp siêu tham số cần thử nghiệm cho mỗi mô hình.\n",
    "\n",
    "param_grids = {\n",
    "    \"SVR\": {\n",
    "        'C': [1, 10, 1000, 10000, 1000000],\n",
    "        'epsilon': [0.01, 0.1, 1],\n",
    "        'kernel': ['linear', 'rbf', 'poly']\n",
    "\n",
    "    },\n",
    "    \"KNeighborsRegressor\": {\n",
    "        'n_neighbors': [3, 5, 7, 9, 11, 13],\n",
    "        'weights': ['uniform', 'distance'],\n",
    "        'p': [1, 2]\n",
    "    },\n",
    "    \"RandomForestRegressor\": {\n",
    "        'n_estimators': [10, 50, 100, 200],\n",
    "        'max_depth': [None, 10, 20],\n",
    "        'min_samples_split': [2, 5]\n",
    "    },\n",
    "    \"DecisionTreeRegressor\": {\n",
    "        'max_depth': [None, 5, 10],\n",
    "        'min_samples_split': [2, 4, 6],\n",
    "        'min_samples_leaf': [1, 2]\n",
    "    },\n",
    "    \"Ridge\": {\n",
    "        'alpha': [0.001, 0.01, 0.1, 1, 2],\n",
    "        'solver': ['auto', 'svd', 'cholesky']\n",
    "    }\n",
    "}"
   ]
  },
  {
   "cell_type": "code",
   "execution_count": 31,
   "id": "FgTF-Osp-4r8",
   "metadata": {
    "id": "FgTF-Osp-4r8"
   },
   "outputs": [],
   "source": [
    "# Tạo biểu đồ trực quan hóa kết quả tìm kiếm siêu tham số bằng biểu đồ parallel_coordinates\n",
    "# Giúp hiểu ảnh hưởng của từng siêu tham số đến kết quả loss.\n",
    "\n",
    "import plotly.express as px\n",
    "\n",
    "def visualize_tuning_results(grid, model_name, loss_metric='mean_test_score', negate_score=True):\n",
    "    results_df = pd.DataFrame(grid.cv_results_)\n",
    "\n",
    "    # Lấy cột tham số và score\n",
    "    param_cols = [col for col in results_df.columns if col.startswith('param_')]\n",
    "    selected_cols = param_cols + [loss_metric]\n",
    "    vis_df = results_df[selected_cols].copy()\n",
    "\n",
    "    # Tạo cột Loss\n",
    "    vis_df['Loss'] = -vis_df[loss_metric] if negate_score else vis_df[loss_metric]\n",
    "    vis_df.drop(columns=[loss_metric], inplace=True)\n",
    "\n",
    "    # Ánh xạ các giá trị chuỗi sang số để vẽ được\n",
    "    str_mappings = {}  # lưu lại ánh xạ để hiển thị sau\n",
    "\n",
    "    for col in param_cols:\n",
    "        if vis_df[col].dtype == 'object':\n",
    "            unique_vals = vis_df[col].unique()\n",
    "            mapping = {val: idx for idx, val in enumerate(unique_vals)}\n",
    "            str_mappings[col] = mapping\n",
    "            vis_df[col] = vis_df[col].map(mapping)\n",
    "\n",
    "    # Đổi tên cột cho ngắn gọn\n",
    "    vis_df.rename(columns={col: col.replace('param_', '') for col in vis_df.columns}, inplace=True)\n",
    "\n",
    "    # Vẽ biểu đồ\n",
    "    fig = px.parallel_coordinates(\n",
    "        vis_df,\n",
    "        color='Loss',\n",
    "        labels={col.replace('param_', ''): col.replace('param_', '') for col in param_cols} | {'Loss': 'Loss'},\n",
    "        title=f\"Tuning Visualization - {model_name}\"\n",
    "    )\n",
    "    fig.show()\n",
    "\n",
    "    if str_mappings:\n",
    "        print(f\"\\n🔤 String-to-Int Mappings for {model_name}:\")\n",
    "        for col, mapping in str_mappings.items():\n",
    "            print(f\" - {col.replace('param_', '')}: {mapping}\")\n",
    "\n"
   ]
  },
  {
   "cell_type": "markdown",
   "id": "K3TPEvCXeBop",
   "metadata": {
    "id": "K3TPEvCXeBop"
   },
   "source": [
    "# Huấn luyện các mô hình"
   ]
  },
  {
   "cell_type": "code",
   "execution_count": 32,
   "id": "z6o1shzVm88y",
   "metadata": {
    "id": "z6o1shzVm88y"
   },
   "outputs": [],
   "source": [
    "# Khởi tạo mô hình và dictionary lưu mô hình tốt nhất\n",
    "\n",
    "models = {\n",
    "    \"SVR\": SVR(),\n",
    "    \"KNeighborsRegressor\": KNeighborsRegressor(),\n",
    "    \"RandomForestRegressor\": RandomForestRegressor(random_state=42),\n",
    "    \"DecisionTreeRegressor\": DecisionTreeRegressor(random_state=42),\n",
    "    \"Ridge\": Ridge()\n",
    "}\n",
    "\n",
    "best_models = {}\n",
    "model_results = {}"
   ]
  },
  {
   "cell_type": "markdown",
   "id": "KsbKxVAieIg1",
   "metadata": {
    "id": "KsbKxVAieIg1"
   },
   "source": [
    "## Mô hình ***SVR***"
   ]
  },
  {
   "cell_type": "code",
   "execution_count": 33,
   "id": "Bh2x0CzCnAG3",
   "metadata": {
    "colab": {
     "base_uri": "https://localhost:8080/",
     "height": 1000
    },
    "id": "Bh2x0CzCnAG3",
    "outputId": "967dd9e6-4dea-43ca-a737-aaf73b69c603"
   },
   "outputs": [
    {
     "name": "stdout",
     "output_type": "stream",
     "text": [
      "🔍 Đang tuning mô hình: SVR...\n",
      "📌 SVR\n",
      "Best parameters: {'C': 1000000, 'epsilon': 0.01, 'kernel': 'linear'}\n",
      "Test MSE: 9396052266.1842\n",
      "Test MAE: 75002.0129\n",
      "Test R² : 0.8973\n"
     ]
    },
    {
     "data": {
      "application/vnd.plotly.v1+json": {
       "config": {
        "plotlyServerURL": "https://plot.ly"
       },
       "data": [
        {
         "dimensions": [
          {
           "label": "C",
           "values": {
            "bdata": "AAAAAAAAAAAAAQEBAQEBAQEBAgICAgICAgICAwMDAwMDAwMDBAQEBAQEBAQE",
            "dtype": "i1"
           }
          },
          {
           "label": "epsilon",
           "values": {
            "bdata": "AAAAAQEBAgICAAAAAQEBAgICAAAAAQEBAgICAAAAAQEBAgICAAAAAQEBAgIC",
            "dtype": "i1"
           }
          },
          {
           "label": "kernel",
           "values": {
            "bdata": "AAECAAECAAECAAECAAECAAECAAECAAECAAECAAECAAECAAECAAECAAECAAEC",
            "dtype": "i1"
           }
          },
          {
           "label": "Loss",
           "values": {
            "bdata": "2jnZEHHrPEIwkaO9Gxo9QlV++E4c1TxC2jnZEHHrPEIwkaO9Gxo9QlV++E4c1TxC2jnZEHHrPEIwkaO9Gxo9QlV++E4c1TxCivNG4WlqO0LQ737Z4wg9QsgzRCf+zTpCCANG32lqO0LQ737Z4wg9QsgzRCf+zTpCxojv+WlqO0LQ737Z4wg9QsgzRCf+zTpC03lQBOAtLUIiwEcTaEA4QpopPa1KFjFCVgLf8N8tLUIv46b4Z0A4Qi/yvqxKFjFCHtBTLt8tLUJYcpjuZkA4QnJRl5tKFjFCiu4tWbagCEIHMXkLvLUxQh4hFtv7aRZC2uX4PbegCEIyIqALvLUxQssB1pT7aRZCThTJzL+gCEIyqwsNvLUxQuLOj9j4aRZCu/D0D4ojA0LI7eyughMEQjbOxI4pHAlCdg9oKYojA0KW7y+vghMEQniphKspHAlCG5X9EYsjA0LmxGmxghMEQuzMJQArHAlC",
            "dtype": "f8"
           }
          }
         ],
         "domain": {
          "x": [
           0,
           1
          ],
          "y": [
           0,
           1
          ]
         },
         "line": {
          "color": {
           "bdata": "2jnZEHHrPEIwkaO9Gxo9QlV++E4c1TxC2jnZEHHrPEIwkaO9Gxo9QlV++E4c1TxC2jnZEHHrPEIwkaO9Gxo9QlV++E4c1TxCivNG4WlqO0LQ737Z4wg9QsgzRCf+zTpCCANG32lqO0LQ737Z4wg9QsgzRCf+zTpCxojv+WlqO0LQ737Z4wg9QsgzRCf+zTpC03lQBOAtLUIiwEcTaEA4QpopPa1KFjFCVgLf8N8tLUIv46b4Z0A4Qi/yvqxKFjFCHtBTLt8tLUJYcpjuZkA4QnJRl5tKFjFCiu4tWbagCEIHMXkLvLUxQh4hFtv7aRZC2uX4PbegCEIyIqALvLUxQssB1pT7aRZCThTJzL+gCEIyqwsNvLUxQuLOj9j4aRZCu/D0D4ojA0LI7eyughMEQjbOxI4pHAlCdg9oKYojA0KW7y+vghMEQniphKspHAlCG5X9EYsjA0LmxGmxghMEQuzMJQArHAlC",
           "dtype": "f8"
          },
          "coloraxis": "coloraxis"
         },
         "name": "",
         "type": "parcoords"
        }
       ],
       "layout": {
        "coloraxis": {
         "colorbar": {
          "title": {
           "text": "Loss"
          }
         },
         "colorscale": [
          [
           0,
           "#0d0887"
          ],
          [
           0.1111111111111111,
           "#46039f"
          ],
          [
           0.2222222222222222,
           "#7201a8"
          ],
          [
           0.3333333333333333,
           "#9c179e"
          ],
          [
           0.4444444444444444,
           "#bd3786"
          ],
          [
           0.5555555555555556,
           "#d8576b"
          ],
          [
           0.6666666666666666,
           "#ed7953"
          ],
          [
           0.7777777777777778,
           "#fb9f3a"
          ],
          [
           0.8888888888888888,
           "#fdca26"
          ],
          [
           1,
           "#f0f921"
          ]
         ]
        },
        "legend": {
         "tracegroupgap": 0
        },
        "template": {
         "data": {
          "bar": [
           {
            "error_x": {
             "color": "#2a3f5f"
            },
            "error_y": {
             "color": "#2a3f5f"
            },
            "marker": {
             "line": {
              "color": "#E5ECF6",
              "width": 0.5
             },
             "pattern": {
              "fillmode": "overlay",
              "size": 10,
              "solidity": 0.2
             }
            },
            "type": "bar"
           }
          ],
          "barpolar": [
           {
            "marker": {
             "line": {
              "color": "#E5ECF6",
              "width": 0.5
             },
             "pattern": {
              "fillmode": "overlay",
              "size": 10,
              "solidity": 0.2
             }
            },
            "type": "barpolar"
           }
          ],
          "carpet": [
           {
            "aaxis": {
             "endlinecolor": "#2a3f5f",
             "gridcolor": "white",
             "linecolor": "white",
             "minorgridcolor": "white",
             "startlinecolor": "#2a3f5f"
            },
            "baxis": {
             "endlinecolor": "#2a3f5f",
             "gridcolor": "white",
             "linecolor": "white",
             "minorgridcolor": "white",
             "startlinecolor": "#2a3f5f"
            },
            "type": "carpet"
           }
          ],
          "choropleth": [
           {
            "colorbar": {
             "outlinewidth": 0,
             "ticks": ""
            },
            "type": "choropleth"
           }
          ],
          "contour": [
           {
            "colorbar": {
             "outlinewidth": 0,
             "ticks": ""
            },
            "colorscale": [
             [
              0,
              "#0d0887"
             ],
             [
              0.1111111111111111,
              "#46039f"
             ],
             [
              0.2222222222222222,
              "#7201a8"
             ],
             [
              0.3333333333333333,
              "#9c179e"
             ],
             [
              0.4444444444444444,
              "#bd3786"
             ],
             [
              0.5555555555555556,
              "#d8576b"
             ],
             [
              0.6666666666666666,
              "#ed7953"
             ],
             [
              0.7777777777777778,
              "#fb9f3a"
             ],
             [
              0.8888888888888888,
              "#fdca26"
             ],
             [
              1,
              "#f0f921"
             ]
            ],
            "type": "contour"
           }
          ],
          "contourcarpet": [
           {
            "colorbar": {
             "outlinewidth": 0,
             "ticks": ""
            },
            "type": "contourcarpet"
           }
          ],
          "heatmap": [
           {
            "colorbar": {
             "outlinewidth": 0,
             "ticks": ""
            },
            "colorscale": [
             [
              0,
              "#0d0887"
             ],
             [
              0.1111111111111111,
              "#46039f"
             ],
             [
              0.2222222222222222,
              "#7201a8"
             ],
             [
              0.3333333333333333,
              "#9c179e"
             ],
             [
              0.4444444444444444,
              "#bd3786"
             ],
             [
              0.5555555555555556,
              "#d8576b"
             ],
             [
              0.6666666666666666,
              "#ed7953"
             ],
             [
              0.7777777777777778,
              "#fb9f3a"
             ],
             [
              0.8888888888888888,
              "#fdca26"
             ],
             [
              1,
              "#f0f921"
             ]
            ],
            "type": "heatmap"
           }
          ],
          "histogram": [
           {
            "marker": {
             "pattern": {
              "fillmode": "overlay",
              "size": 10,
              "solidity": 0.2
             }
            },
            "type": "histogram"
           }
          ],
          "histogram2d": [
           {
            "colorbar": {
             "outlinewidth": 0,
             "ticks": ""
            },
            "colorscale": [
             [
              0,
              "#0d0887"
             ],
             [
              0.1111111111111111,
              "#46039f"
             ],
             [
              0.2222222222222222,
              "#7201a8"
             ],
             [
              0.3333333333333333,
              "#9c179e"
             ],
             [
              0.4444444444444444,
              "#bd3786"
             ],
             [
              0.5555555555555556,
              "#d8576b"
             ],
             [
              0.6666666666666666,
              "#ed7953"
             ],
             [
              0.7777777777777778,
              "#fb9f3a"
             ],
             [
              0.8888888888888888,
              "#fdca26"
             ],
             [
              1,
              "#f0f921"
             ]
            ],
            "type": "histogram2d"
           }
          ],
          "histogram2dcontour": [
           {
            "colorbar": {
             "outlinewidth": 0,
             "ticks": ""
            },
            "colorscale": [
             [
              0,
              "#0d0887"
             ],
             [
              0.1111111111111111,
              "#46039f"
             ],
             [
              0.2222222222222222,
              "#7201a8"
             ],
             [
              0.3333333333333333,
              "#9c179e"
             ],
             [
              0.4444444444444444,
              "#bd3786"
             ],
             [
              0.5555555555555556,
              "#d8576b"
             ],
             [
              0.6666666666666666,
              "#ed7953"
             ],
             [
              0.7777777777777778,
              "#fb9f3a"
             ],
             [
              0.8888888888888888,
              "#fdca26"
             ],
             [
              1,
              "#f0f921"
             ]
            ],
            "type": "histogram2dcontour"
           }
          ],
          "mesh3d": [
           {
            "colorbar": {
             "outlinewidth": 0,
             "ticks": ""
            },
            "type": "mesh3d"
           }
          ],
          "parcoords": [
           {
            "line": {
             "colorbar": {
              "outlinewidth": 0,
              "ticks": ""
             }
            },
            "type": "parcoords"
           }
          ],
          "pie": [
           {
            "automargin": true,
            "type": "pie"
           }
          ],
          "scatter": [
           {
            "fillpattern": {
             "fillmode": "overlay",
             "size": 10,
             "solidity": 0.2
            },
            "type": "scatter"
           }
          ],
          "scatter3d": [
           {
            "line": {
             "colorbar": {
              "outlinewidth": 0,
              "ticks": ""
             }
            },
            "marker": {
             "colorbar": {
              "outlinewidth": 0,
              "ticks": ""
             }
            },
            "type": "scatter3d"
           }
          ],
          "scattercarpet": [
           {
            "marker": {
             "colorbar": {
              "outlinewidth": 0,
              "ticks": ""
             }
            },
            "type": "scattercarpet"
           }
          ],
          "scattergeo": [
           {
            "marker": {
             "colorbar": {
              "outlinewidth": 0,
              "ticks": ""
             }
            },
            "type": "scattergeo"
           }
          ],
          "scattergl": [
           {
            "marker": {
             "colorbar": {
              "outlinewidth": 0,
              "ticks": ""
             }
            },
            "type": "scattergl"
           }
          ],
          "scattermap": [
           {
            "marker": {
             "colorbar": {
              "outlinewidth": 0,
              "ticks": ""
             }
            },
            "type": "scattermap"
           }
          ],
          "scattermapbox": [
           {
            "marker": {
             "colorbar": {
              "outlinewidth": 0,
              "ticks": ""
             }
            },
            "type": "scattermapbox"
           }
          ],
          "scatterpolar": [
           {
            "marker": {
             "colorbar": {
              "outlinewidth": 0,
              "ticks": ""
             }
            },
            "type": "scatterpolar"
           }
          ],
          "scatterpolargl": [
           {
            "marker": {
             "colorbar": {
              "outlinewidth": 0,
              "ticks": ""
             }
            },
            "type": "scatterpolargl"
           }
          ],
          "scatterternary": [
           {
            "marker": {
             "colorbar": {
              "outlinewidth": 0,
              "ticks": ""
             }
            },
            "type": "scatterternary"
           }
          ],
          "surface": [
           {
            "colorbar": {
             "outlinewidth": 0,
             "ticks": ""
            },
            "colorscale": [
             [
              0,
              "#0d0887"
             ],
             [
              0.1111111111111111,
              "#46039f"
             ],
             [
              0.2222222222222222,
              "#7201a8"
             ],
             [
              0.3333333333333333,
              "#9c179e"
             ],
             [
              0.4444444444444444,
              "#bd3786"
             ],
             [
              0.5555555555555556,
              "#d8576b"
             ],
             [
              0.6666666666666666,
              "#ed7953"
             ],
             [
              0.7777777777777778,
              "#fb9f3a"
             ],
             [
              0.8888888888888888,
              "#fdca26"
             ],
             [
              1,
              "#f0f921"
             ]
            ],
            "type": "surface"
           }
          ],
          "table": [
           {
            "cells": {
             "fill": {
              "color": "#EBF0F8"
             },
             "line": {
              "color": "white"
             }
            },
            "header": {
             "fill": {
              "color": "#C8D4E3"
             },
             "line": {
              "color": "white"
             }
            },
            "type": "table"
           }
          ]
         },
         "layout": {
          "annotationdefaults": {
           "arrowcolor": "#2a3f5f",
           "arrowhead": 0,
           "arrowwidth": 1
          },
          "autotypenumbers": "strict",
          "coloraxis": {
           "colorbar": {
            "outlinewidth": 0,
            "ticks": ""
           }
          },
          "colorscale": {
           "diverging": [
            [
             0,
             "#8e0152"
            ],
            [
             0.1,
             "#c51b7d"
            ],
            [
             0.2,
             "#de77ae"
            ],
            [
             0.3,
             "#f1b6da"
            ],
            [
             0.4,
             "#fde0ef"
            ],
            [
             0.5,
             "#f7f7f7"
            ],
            [
             0.6,
             "#e6f5d0"
            ],
            [
             0.7,
             "#b8e186"
            ],
            [
             0.8,
             "#7fbc41"
            ],
            [
             0.9,
             "#4d9221"
            ],
            [
             1,
             "#276419"
            ]
           ],
           "sequential": [
            [
             0,
             "#0d0887"
            ],
            [
             0.1111111111111111,
             "#46039f"
            ],
            [
             0.2222222222222222,
             "#7201a8"
            ],
            [
             0.3333333333333333,
             "#9c179e"
            ],
            [
             0.4444444444444444,
             "#bd3786"
            ],
            [
             0.5555555555555556,
             "#d8576b"
            ],
            [
             0.6666666666666666,
             "#ed7953"
            ],
            [
             0.7777777777777778,
             "#fb9f3a"
            ],
            [
             0.8888888888888888,
             "#fdca26"
            ],
            [
             1,
             "#f0f921"
            ]
           ],
           "sequentialminus": [
            [
             0,
             "#0d0887"
            ],
            [
             0.1111111111111111,
             "#46039f"
            ],
            [
             0.2222222222222222,
             "#7201a8"
            ],
            [
             0.3333333333333333,
             "#9c179e"
            ],
            [
             0.4444444444444444,
             "#bd3786"
            ],
            [
             0.5555555555555556,
             "#d8576b"
            ],
            [
             0.6666666666666666,
             "#ed7953"
            ],
            [
             0.7777777777777778,
             "#fb9f3a"
            ],
            [
             0.8888888888888888,
             "#fdca26"
            ],
            [
             1,
             "#f0f921"
            ]
           ]
          },
          "colorway": [
           "#636efa",
           "#EF553B",
           "#00cc96",
           "#ab63fa",
           "#FFA15A",
           "#19d3f3",
           "#FF6692",
           "#B6E880",
           "#FF97FF",
           "#FECB52"
          ],
          "font": {
           "color": "#2a3f5f"
          },
          "geo": {
           "bgcolor": "white",
           "lakecolor": "white",
           "landcolor": "#E5ECF6",
           "showlakes": true,
           "showland": true,
           "subunitcolor": "white"
          },
          "hoverlabel": {
           "align": "left"
          },
          "hovermode": "closest",
          "mapbox": {
           "style": "light"
          },
          "paper_bgcolor": "white",
          "plot_bgcolor": "#E5ECF6",
          "polar": {
           "angularaxis": {
            "gridcolor": "white",
            "linecolor": "white",
            "ticks": ""
           },
           "bgcolor": "#E5ECF6",
           "radialaxis": {
            "gridcolor": "white",
            "linecolor": "white",
            "ticks": ""
           }
          },
          "scene": {
           "xaxis": {
            "backgroundcolor": "#E5ECF6",
            "gridcolor": "white",
            "gridwidth": 2,
            "linecolor": "white",
            "showbackground": true,
            "ticks": "",
            "zerolinecolor": "white"
           },
           "yaxis": {
            "backgroundcolor": "#E5ECF6",
            "gridcolor": "white",
            "gridwidth": 2,
            "linecolor": "white",
            "showbackground": true,
            "ticks": "",
            "zerolinecolor": "white"
           },
           "zaxis": {
            "backgroundcolor": "#E5ECF6",
            "gridcolor": "white",
            "gridwidth": 2,
            "linecolor": "white",
            "showbackground": true,
            "ticks": "",
            "zerolinecolor": "white"
           }
          },
          "shapedefaults": {
           "line": {
            "color": "#2a3f5f"
           }
          },
          "ternary": {
           "aaxis": {
            "gridcolor": "white",
            "linecolor": "white",
            "ticks": ""
           },
           "baxis": {
            "gridcolor": "white",
            "linecolor": "white",
            "ticks": ""
           },
           "bgcolor": "#E5ECF6",
           "caxis": {
            "gridcolor": "white",
            "linecolor": "white",
            "ticks": ""
           }
          },
          "title": {
           "x": 0.05
          },
          "xaxis": {
           "automargin": true,
           "gridcolor": "white",
           "linecolor": "white",
           "ticks": "",
           "title": {
            "standoff": 15
           },
           "zerolinecolor": "white",
           "zerolinewidth": 2
          },
          "yaxis": {
           "automargin": true,
           "gridcolor": "white",
           "linecolor": "white",
           "ticks": "",
           "title": {
            "standoff": 15
           },
           "zerolinecolor": "white",
           "zerolinewidth": 2
          }
         }
        },
        "title": {
         "text": "Tuning Visualization - SVR"
        }
       }
      }
     },
     "metadata": {},
     "output_type": "display_data"
    },
    {
     "name": "stdout",
     "output_type": "stream",
     "text": [
      "\n",
      "🔤 String-to-Int Mappings for SVR:\n",
      " - C: {1: 0, 10: 1, 1000: 2, 10000: 3, 1000000: 4}\n",
      " - epsilon: {0.01: 0, 0.1: 1, 1: 2}\n",
      " - kernel: {'linear': 0, 'rbf': 1, 'poly': 2}\n"
     ]
    },
    {
     "data": {
      "image/png": "[encoded data removed]",
      "text/plain": [
       "<Figure size 1400x600 with 2 Axes>"
      ]
     },
     "metadata": {},
     "output_type": "display_data"
    },
    {
     "name": "stdout",
     "output_type": "stream",
     "text": [
      "✅ Hoàn thành: SVR\n",
      "--------------------------------------------------\n"
     ]
    }
   ],
   "source": [
    "# Chạy tuning và trực quan hóa cho mô hình SVR\n",
    "\n",
    "name = \"SVR\"\n",
    "model = models[name]\n",
    "print(f\"🔍 Đang tuning mô hình: {name}...\")\n",
    "\n",
    "grid = GridSearchCV(model, param_grids[name], cv=5, scoring='neg_mean_squared_error', n_jobs=-1)\n",
    "grid.fit(x_train, y_train)\n",
    "\n",
    "y_pred = grid.predict(x_test)\n",
    "mse = mean_squared_error(y_test, y_pred)\n",
    "mae = mean_absolute_error(y_test, y_pred)\n",
    "r2 = r2_score(y_test, y_pred)\n",
    "\n",
    "print(f\"📌 {name}\")\n",
    "print(\"Best parameters:\", grid.best_params_)\n",
    "print(f\"Test MSE: {mse:.4f}\")\n",
    "print(f\"Test MAE: {mae:.4f}\")\n",
    "print(f\"Test R² : {r2:.4f}\")\n",
    "\n",
    "best_models[name] = grid.best_estimator_\n",
    "model_results[name] = {\n",
    "    \"MSE\": mse,\n",
    "    \"MAE\": mae,\n",
    "    \"R2\": r2\n",
    "}\n",
    "\n",
    "# Trực quan hóa kết quả tìm kiếm siêu tham số\n",
    "visualize_tuning_results(grid, model_name=name)\n",
    "\n",
    "# Trực quan hóa mức độ chính xác của mô hình khi dùng bộ tham số tối ưu và bộ tham số mặc định bằng cách so sánh giữa giá trị thực tế (y_test) và giá trị dự đoán (y_pred) thông qua biểu đồ phân tán.\n",
    "compare_default_and_tuned_models(x_train, x_test, y_train, y_test, grid.best_estimator_, model_name=name)\n",
    "\n",
    "print(f\"✅ Hoàn thành: {name}\\n{'-'*50}\")\n"
   ]
  },
  {
   "cell_type": "code",
   "execution_count": 34,
   "id": "IG-WaWmHbSMv",
   "metadata": {
    "id": "IG-WaWmHbSMv"
   },
   "outputs": [],
   "source": [
    "import numpy as np\n",
    "import matplotlib.pyplot as plt\n",
    "\n",
    "def plot_svr_predictions(x_train, y_train, x_test, y_test, model, title=\"SVR Prediction\"):\n",
    "    # Dự đoán trên toàn bộ dữ liệu để vẽ đường hồi quy mượt\n",
    "    x_all = np.linspace(x_train.min(), x_train.max(), 500).reshape(-1, 1)\n",
    "    y_all_pred = model.predict(x_all)\n",
    "\n",
    "    # Dự đoán trên tập test\n",
    "    y_test_pred = model.predict(x_test)\n",
    "\n",
    "    plt.figure(figsize=(10, 6))\n",
    "    plt.scatter(x_train, y_train, color=\"gray\", alpha=0.5, label=\"Train data\")\n",
    "    plt.scatter(x_test, y_test, color=\"blue\", label=\"Test data\")\n",
    "    plt.plot(x_all, y_all_pred, color=\"red\", label=\"SVR prediction (tuned)\")\n",
    "    plt.scatter(x_test, y_test_pred, color=\"green\", label=\"Predicted (test)\", marker=\"x\")\n",
    "\n",
    "    plt.title(title)\n",
    "    plt.xlabel(\"x\")\n",
    "    plt.ylabel(\"y\")\n",
    "    plt.legend()\n",
    "    plt.grid(True)\n",
    "    plt.tight_layout()\n",
    "    plt.show()\n"
   ]
  },
  {
   "cell_type": "markdown",
   "id": "OVjdQq_vdxCT",
   "metadata": {
    "id": "OVjdQq_vdxCT"
   },
   "source": [
    "### 🧠 Câu hỏi phân tích\n",
    "1. Dựa trên biểu đồ, bạn thấy tổ hợp giá trị nào cho ra Loss thấp nhất?\n",
    "\n",
    "2. Có tham số nào dường như có ảnh hưởng lớn hơn đến xu hướng của hàm Loss so với các tham số khác không?\n",
    "\n",
    "3. Nêu một đường trong biểu đồ cho thấy một cấu hình tệ (Loss cao), nếu có. Bạn có thể xác định được tham số nào gây ra điều đó?\n",
    "\n",
    "4.  Khi lựa chọn bộ siêu tham số để huấn luyện mô hình, bộ siêu tham số sẽ xoay quanh các giá trị tham số là bao nhiêu? Vì sao"
   ]
  },
  {
   "cell_type": "markdown",
   "id": "4a9364c4",
   "metadata": {},
   "source": [
    "Câu 1:\n",
    "- Tổ hợp cho Loss thấp nhất (~ 10.28B):\n",
    "    - C = 1000000\n",
    "    - epsilon = 0.01\n",
    "    - kernel = 'linear'"
   ]
  },
  {
   "cell_type": "markdown",
   "id": "4d23bb8e",
   "metadata": {},
   "source": [
    "Câu 2:\n",
    "- C là tham số có ảnh hưởng lớn nhất: Khi C tăng, mô hình càng cố gắng fit dữ liệu → giảm Loss rõ rệt.\n",
    "- epsilon cũng có ảnh hưởng nhất định: Giá trị epsilon nhỏ như 0.01 giúp SVR không bỏ qua các sai số nhỏ.\n",
    "- kernel ảnh hưởng nhẹ hơn trong trường hợp này, nhưng linear đã cho kết quả tốt hơn so với rbf.    "
   ]
  },
  {
   "cell_type": "markdown",
   "id": "da4f6e03",
   "metadata": {},
   "source": [
    "Câu 3:\n",
    "- Một cấu hình có Loss cao (đường vàng nhất trong biểu đồ) có thể là:\n",
    "    - C = 0.1\n",
    "    - epsilon = 5\n",
    "    - kernel = 'rbf'\n",
    "\n",
    "- Nguyên nhân:\n",
    "    - C quá nhỏ → mô hình không đủ phức tạp để học tốt (underfitting).\n",
    "    - epsilon quá lớn → bỏ qua quá nhiều sai số nhỏ.\n",
    "    - rbf không phù hợp khi dữ liệu phù hợp hơn với mối quan hệ tuyến tính (như hiện tại)."
   ]
  },
  {
   "cell_type": "markdown",
   "id": "6b0225f9",
   "metadata": {},
   "source": [
    "- Theo kết quả tuning:\n",
    "    - C nên lấy giá trị lớn, khoảng 10^5 đến 10^6\n",
    "    - epsilon nhỏ, khoảng 0.01\n",
    "    - kernel = 'linear'"
   ]
  },
  {
   "cell_type": "markdown",
   "id": "m-JiTM_geMoF",
   "metadata": {
    "id": "m-JiTM_geMoF"
   },
   "source": [
    "## Mô hình ***KNeighborsRegressor***"
   ]
  },
  {
   "cell_type": "code",
   "execution_count": 35,
   "id": "hJ_nYGYynCbV",
   "metadata": {
    "colab": {
     "base_uri": "https://localhost:8080/",
     "height": 1000
    },
    "id": "hJ_nYGYynCbV",
    "outputId": "faf2e728-86cc-4021-ef15-1d3e1c2c0326"
   },
   "outputs": [
    {
     "name": "stdout",
     "output_type": "stream",
     "text": [
      "🔍 Đang tuning mô hình: KNeighborsRegressor...\n",
      "📌 KNeighborsRegressor\n",
      "Best parameters: {'n_neighbors': 5, 'p': 1, 'weights': 'distance'}\n",
      "Test MSE: 34020326240.1504\n",
      "Test MAE: 145917.3538\n",
      "Test R² : 0.6282\n"
     ]
    },
    {
     "data": {
      "application/vnd.plotly.v1+json": {
       "config": {
        "plotlyServerURL": "https://plot.ly"
       },
       "data": [
        {
         "dimensions": [
          {
           "label": "n_neighbors",
           "values": {
            "bdata": "AAAAAAEBAQECAgICAwMDAwQEBAQFBQUF",
            "dtype": "i1"
           }
          },
          {
           "label": "p",
           "values": {
            "bdata": "AAABAQAAAQEAAAEBAAABAQAAAQEAAAEB",
            "dtype": "i1"
           }
          },
          {
           "label": "weights",
           "values": {
            "bdata": "AAEAAQABAAEAAQABAAEAAQABAAEAAQAB",
            "dtype": "i1"
           }
          },
          {
           "label": "Loss",
           "values": {
            "bdata": "aMiKa3v4JUJQsKkwvaAlQlJ6vELsJyZCBtt/p3y9JUIaXteGYZ0kQphpk99ZFSRC7Hz3re2QJUIYx3CWft8kQjCKklin3SRC007Dt4wkJEKico7SMf4lQhv5Z03JIiVCRDl+iEc3JUL+JT2N4GMkQmAg327PkyZC/tj3I4mQJUIqzoSL9oIlQpXBzkIvniRCk+6cVGJDJ0KexTViDR0mQmj31zcS5yVC3BXGDNLxJEKCuoWQJvknQsRR6uSOtSZC",
            "dtype": "f8"
           }
          }
         ],
         "domain": {
          "x": [
           0,
           1
          ],
          "y": [
           0,
           1
          ]
         },
         "line": {
          "color": {
           "bdata": "aMiKa3v4JUJQsKkwvaAlQlJ6vELsJyZCBtt/p3y9JUIaXteGYZ0kQphpk99ZFSRC7Hz3re2QJUIYx3CWft8kQjCKklin3SRC007Dt4wkJEKico7SMf4lQhv5Z03JIiVCRDl+iEc3JUL+JT2N4GMkQmAg327PkyZC/tj3I4mQJUIqzoSL9oIlQpXBzkIvniRCk+6cVGJDJ0KexTViDR0mQmj31zcS5yVC3BXGDNLxJEKCuoWQJvknQsRR6uSOtSZC",
           "dtype": "f8"
          },
          "coloraxis": "coloraxis"
         },
         "name": "",
         "type": "parcoords"
        }
       ],
       "layout": {
        "coloraxis": {
         "colorbar": {
          "title": {
           "text": "Loss"
          }
         },
         "colorscale": [
          [
           0,
           "#0d0887"
          ],
          [
           0.1111111111111111,
           "#46039f"
          ],
          [
           0.2222222222222222,
           "#7201a8"
          ],
          [
           0.3333333333333333,
           "#9c179e"
          ],
          [
           0.4444444444444444,
           "#bd3786"
          ],
          [
           0.5555555555555556,
           "#d8576b"
          ],
          [
           0.6666666666666666,
           "#ed7953"
          ],
          [
           0.7777777777777778,
           "#fb9f3a"
          ],
          [
           0.8888888888888888,
           "#fdca26"
          ],
          [
           1,
           "#f0f921"
          ]
         ]
        },
        "legend": {
         "tracegroupgap": 0
        },
        "template": {
         "data": {
          "bar": [
           {
            "error_x": {
             "color": "#2a3f5f"
            },
            "error_y": {
             "color": "#2a3f5f"
            },
            "marker": {
             "line": {
              "color": "#E5ECF6",
              "width": 0.5
             },
             "pattern": {
              "fillmode": "overlay",
              "size": 10,
              "solidity": 0.2
             }
            },
            "type": "bar"
           }
          ],
          "barpolar": [
           {
            "marker": {
             "line": {
              "color": "#E5ECF6",
              "width": 0.5
             },
             "pattern": {
              "fillmode": "overlay",
              "size": 10,
              "solidity": 0.2
             }
            },
            "type": "barpolar"
           }
          ],
          "carpet": [
           {
            "aaxis": {
             "endlinecolor": "#2a3f5f",
             "gridcolor": "white",
             "linecolor": "white",
             "minorgridcolor": "white",
             "startlinecolor": "#2a3f5f"
            },
            "baxis": {
             "endlinecolor": "#2a3f5f",
             "gridcolor": "white",
             "linecolor": "white",
             "minorgridcolor": "white",
             "startlinecolor": "#2a3f5f"
            },
            "type": "carpet"
           }
          ],
          "choropleth": [
           {
            "colorbar": {
             "outlinewidth": 0,
             "ticks": ""
            },
            "type": "choropleth"
           }
          ],
          "contour": [
           {
            "colorbar": {
             "outlinewidth": 0,
             "ticks": ""
            },
            "colorscale": [
             [
              0,
              "#0d0887"
             ],
             [
              0.1111111111111111,
              "#46039f"
             ],
             [
              0.2222222222222222,
              "#7201a8"
             ],
             [
              0.3333333333333333,
              "#9c179e"
             ],
             [
              0.4444444444444444,
              "#bd3786"
             ],
             [
              0.5555555555555556,
              "#d8576b"
             ],
             [
              0.6666666666666666,
              "#ed7953"
             ],
             [
              0.7777777777777778,
              "#fb9f3a"
             ],
             [
              0.8888888888888888,
              "#fdca26"
             ],
             [
              1,
              "#f0f921"
             ]
            ],
            "type": "contour"
           }
          ],
          "contourcarpet": [
           {
            "colorbar": {
             "outlinewidth": 0,
             "ticks": ""
            },
            "type": "contourcarpet"
           }
          ],
          "heatmap": [
           {
            "colorbar": {
             "outlinewidth": 0,
             "ticks": ""
            },
            "colorscale": [
             [
              0,
              "#0d0887"
             ],
             [
              0.1111111111111111,
              "#46039f"
             ],
             [
              0.2222222222222222,
              "#7201a8"
             ],
             [
              0.3333333333333333,
              "#9c179e"
             ],
             [
              0.4444444444444444,
              "#bd3786"
             ],
             [
              0.5555555555555556,
              "#d8576b"
             ],
             [
              0.6666666666666666,
              "#ed7953"
             ],
             [
              0.7777777777777778,
              "#fb9f3a"
             ],
             [
              0.8888888888888888,
              "#fdca26"
             ],
             [
              1,
              "#f0f921"
             ]
            ],
            "type": "heatmap"
           }
          ],
          "histogram": [
           {
            "marker": {
             "pattern": {
              "fillmode": "overlay",
              "size": 10,
              "solidity": 0.2
             }
            },
            "type": "histogram"
           }
          ],
          "histogram2d": [
           {
            "colorbar": {
             "outlinewidth": 0,
             "ticks": ""
            },
            "colorscale": [
             [
              0,
              "#0d0887"
             ],
             [
              0.1111111111111111,
              "#46039f"
             ],
             [
              0.2222222222222222,
              "#7201a8"
             ],
             [
              0.3333333333333333,
              "#9c179e"
             ],
             [
              0.4444444444444444,
              "#bd3786"
             ],
             [
              0.5555555555555556,
              "#d8576b"
             ],
             [
              0.6666666666666666,
              "#ed7953"
             ],
             [
              0.7777777777777778,
              "#fb9f3a"
             ],
             [
              0.8888888888888888,
              "#fdca26"
             ],
             [
              1,
              "#f0f921"
             ]
            ],
            "type": "histogram2d"
           }
          ],
          "histogram2dcontour": [
           {
            "colorbar": {
             "outlinewidth": 0,
             "ticks": ""
            },
            "colorscale": [
             [
              0,
              "#0d0887"
             ],
             [
              0.1111111111111111,
              "#46039f"
             ],
             [
              0.2222222222222222,
              "#7201a8"
             ],
             [
              0.3333333333333333,
              "#9c179e"
             ],
             [
              0.4444444444444444,
              "#bd3786"
             ],
             [
              0.5555555555555556,
              "#d8576b"
             ],
             [
              0.6666666666666666,
              "#ed7953"
             ],
             [
              0.7777777777777778,
              "#fb9f3a"
             ],
             [
              0.8888888888888888,
              "#fdca26"
             ],
             [
              1,
              "#f0f921"
             ]
            ],
            "type": "histogram2dcontour"
           }
          ],
          "mesh3d": [
           {
            "colorbar": {
             "outlinewidth": 0,
             "ticks": ""
            },
            "type": "mesh3d"
           }
          ],
          "parcoords": [
           {
            "line": {
             "colorbar": {
              "outlinewidth": 0,
              "ticks": ""
             }
            },
            "type": "parcoords"
           }
          ],
          "pie": [
           {
            "automargin": true,
            "type": "pie"
           }
          ],
          "scatter": [
           {
            "fillpattern": {
             "fillmode": "overlay",
             "size": 10,
             "solidity": 0.2
            },
            "type": "scatter"
           }
          ],
          "scatter3d": [
           {
            "line": {
             "colorbar": {
              "outlinewidth": 0,
              "ticks": ""
             }
            },
            "marker": {
             "colorbar": {
              "outlinewidth": 0,
              "ticks": ""
             }
            },
            "type": "scatter3d"
           }
          ],
          "scattercarpet": [
           {
            "marker": {
             "colorbar": {
              "outlinewidth": 0,
              "ticks": ""
             }
            },
            "type": "scattercarpet"
           }
          ],
          "scattergeo": [
           {
            "marker": {
             "colorbar": {
              "outlinewidth": 0,
              "ticks": ""
             }
            },
            "type": "scattergeo"
           }
          ],
          "scattergl": [
           {
            "marker": {
             "colorbar": {
              "outlinewidth": 0,
              "ticks": ""
             }
            },
            "type": "scattergl"
           }
          ],
          "scattermap": [
           {
            "marker": {
             "colorbar": {
              "outlinewidth": 0,
              "ticks": ""
             }
            },
            "type": "scattermap"
           }
          ],
          "scattermapbox": [
           {
            "marker": {
             "colorbar": {
              "outlinewidth": 0,
              "ticks": ""
             }
            },
            "type": "scattermapbox"
           }
          ],
          "scatterpolar": [
           {
            "marker": {
             "colorbar": {
              "outlinewidth": 0,
              "ticks": ""
             }
            },
            "type": "scatterpolar"
           }
          ],
          "scatterpolargl": [
           {
            "marker": {
             "colorbar": {
              "outlinewidth": 0,
              "ticks": ""
             }
            },
            "type": "scatterpolargl"
           }
          ],
          "scatterternary": [
           {
            "marker": {
             "colorbar": {
              "outlinewidth": 0,
              "ticks": ""
             }
            },
            "type": "scatterternary"
           }
          ],
          "surface": [
           {
            "colorbar": {
             "outlinewidth": 0,
             "ticks": ""
            },
            "colorscale": [
             [
              0,
              "#0d0887"
             ],
             [
              0.1111111111111111,
              "#46039f"
             ],
             [
              0.2222222222222222,
              "#7201a8"
             ],
             [
              0.3333333333333333,
              "#9c179e"
             ],
             [
              0.4444444444444444,
              "#bd3786"
             ],
             [
              0.5555555555555556,
              "#d8576b"
             ],
             [
              0.6666666666666666,
              "#ed7953"
             ],
             [
              0.7777777777777778,
              "#fb9f3a"
             ],
             [
              0.8888888888888888,
              "#fdca26"
             ],
             [
              1,
              "#f0f921"
             ]
            ],
            "type": "surface"
           }
          ],
          "table": [
           {
            "cells": {
             "fill": {
              "color": "#EBF0F8"
             },
             "line": {
              "color": "white"
             }
            },
            "header": {
             "fill": {
              "color": "#C8D4E3"
             },
             "line": {
              "color": "white"
             }
            },
            "type": "table"
           }
          ]
         },
         "layout": {
          "annotationdefaults": {
           "arrowcolor": "#2a3f5f",
           "arrowhead": 0,
           "arrowwidth": 1
          },
          "autotypenumbers": "strict",
          "coloraxis": {
           "colorbar": {
            "outlinewidth": 0,
            "ticks": ""
           }
          },
          "colorscale": {
           "diverging": [
            [
             0,
             "#8e0152"
            ],
            [
             0.1,
             "#c51b7d"
            ],
            [
             0.2,
             "#de77ae"
            ],
            [
             0.3,
             "#f1b6da"
            ],
            [
             0.4,
             "#fde0ef"
            ],
            [
             0.5,
             "#f7f7f7"
            ],
            [
             0.6,
             "#e6f5d0"
            ],
            [
             0.7,
             "#b8e186"
            ],
            [
             0.8,
             "#7fbc41"
            ],
            [
             0.9,
             "#4d9221"
            ],
            [
             1,
             "#276419"
            ]
           ],
           "sequential": [
            [
             0,
             "#0d0887"
            ],
            [
             0.1111111111111111,
             "#46039f"
            ],
            [
             0.2222222222222222,
             "#7201a8"
            ],
            [
             0.3333333333333333,
             "#9c179e"
            ],
            [
             0.4444444444444444,
             "#bd3786"
            ],
            [
             0.5555555555555556,
             "#d8576b"
            ],
            [
             0.6666666666666666,
             "#ed7953"
            ],
            [
             0.7777777777777778,
             "#fb9f3a"
            ],
            [
             0.8888888888888888,
             "#fdca26"
            ],
            [
             1,
             "#f0f921"
            ]
           ],
           "sequentialminus": [
            [
             0,
             "#0d0887"
            ],
            [
             0.1111111111111111,
             "#46039f"
            ],
            [
             0.2222222222222222,
             "#7201a8"
            ],
            [
             0.3333333333333333,
             "#9c179e"
            ],
            [
             0.4444444444444444,
             "#bd3786"
            ],
            [
             0.5555555555555556,
             "#d8576b"
            ],
            [
             0.6666666666666666,
             "#ed7953"
            ],
            [
             0.7777777777777778,
             "#fb9f3a"
            ],
            [
             0.8888888888888888,
             "#fdca26"
            ],
            [
             1,
             "#f0f921"
            ]
           ]
          },
          "colorway": [
           "#636efa",
           "#EF553B",
           "#00cc96",
           "#ab63fa",
           "#FFA15A",
           "#19d3f3",
           "#FF6692",
           "#B6E880",
           "#FF97FF",
           "#FECB52"
          ],
          "font": {
           "color": "#2a3f5f"
          },
          "geo": {
           "bgcolor": "white",
           "lakecolor": "white",
           "landcolor": "#E5ECF6",
           "showlakes": true,
           "showland": true,
           "subunitcolor": "white"
          },
          "hoverlabel": {
           "align": "left"
          },
          "hovermode": "closest",
          "mapbox": {
           "style": "light"
          },
          "paper_bgcolor": "white",
          "plot_bgcolor": "#E5ECF6",
          "polar": {
           "angularaxis": {
            "gridcolor": "white",
            "linecolor": "white",
            "ticks": ""
           },
           "bgcolor": "#E5ECF6",
           "radialaxis": {
            "gridcolor": "white",
            "linecolor": "white",
            "ticks": ""
           }
          },
          "scene": {
           "xaxis": {
            "backgroundcolor": "#E5ECF6",
            "gridcolor": "white",
            "gridwidth": 2,
            "linecolor": "white",
            "showbackground": true,
            "ticks": "",
            "zerolinecolor": "white"
           },
           "yaxis": {
            "backgroundcolor": "#E5ECF6",
            "gridcolor": "white",
            "gridwidth": 2,
            "linecolor": "white",
            "showbackground": true,
            "ticks": "",
            "zerolinecolor": "white"
           },
           "zaxis": {
            "backgroundcolor": "#E5ECF6",
            "gridcolor": "white",
            "gridwidth": 2,
            "linecolor": "white",
            "showbackground": true,
            "ticks": "",
            "zerolinecolor": "white"
           }
          },
          "shapedefaults": {
           "line": {
            "color": "#2a3f5f"
           }
          },
          "ternary": {
           "aaxis": {
            "gridcolor": "white",
            "linecolor": "white",
            "ticks": ""
           },
           "baxis": {
            "gridcolor": "white",
            "linecolor": "white",
            "ticks": ""
           },
           "bgcolor": "#E5ECF6",
           "caxis": {
            "gridcolor": "white",
            "linecolor": "white",
            "ticks": ""
           }
          },
          "title": {
           "x": 0.05
          },
          "xaxis": {
           "automargin": true,
           "gridcolor": "white",
           "linecolor": "white",
           "ticks": "",
           "title": {
            "standoff": 15
           },
           "zerolinecolor": "white",
           "zerolinewidth": 2
          },
          "yaxis": {
           "automargin": true,
           "gridcolor": "white",
           "linecolor": "white",
           "ticks": "",
           "title": {
            "standoff": 15
           },
           "zerolinecolor": "white",
           "zerolinewidth": 2
          }
         }
        },
        "title": {
         "text": "Tuning Visualization - KNeighborsRegressor"
        }
       }
      }
     },
     "metadata": {},
     "output_type": "display_data"
    },
    {
     "name": "stdout",
     "output_type": "stream",
     "text": [
      "\n",
      "🔤 String-to-Int Mappings for KNeighborsRegressor:\n",
      " - n_neighbors: {3: 0, 5: 1, 7: 2, 9: 3, 11: 4, 13: 5}\n",
      " - p: {1: 0, 2: 1}\n",
      " - weights: {'uniform': 0, 'distance': 1}\n"
     ]
    },
    {
     "data": {
      "image/png": "[encoded data removed]",
      "text/plain": [
       "<Figure size 1400x600 with 2 Axes>"
      ]
     },
     "metadata": {},
     "output_type": "display_data"
    },
    {
     "name": "stdout",
     "output_type": "stream",
     "text": [
      "✅ Hoàn thành: KNeighborsRegressor\n",
      "--------------------------------------------------\n"
     ]
    }
   ],
   "source": [
    "# Chạy tuning và trực quan hóa cho mô hình KNeighborsRegressor\n",
    "\n",
    "name = \"KNeighborsRegressor\"\n",
    "model = models[name]\n",
    "print(f\"🔍 Đang tuning mô hình: {name}...\")\n",
    "\n",
    "grid = GridSearchCV(model, param_grids[name], cv=5, scoring='neg_mean_squared_error', n_jobs=-1)\n",
    "grid.fit(x_train, y_train)\n",
    "\n",
    "y_pred = grid.predict(x_test)\n",
    "mse = mean_squared_error(y_test, y_pred)\n",
    "mae = mean_absolute_error(y_test, y_pred)\n",
    "r2 = r2_score(y_test, y_pred)\n",
    "\n",
    "print(f\"📌 {name}\")\n",
    "print(\"Best parameters:\", grid.best_params_)\n",
    "print(f\"Test MSE: {mse:.4f}\")\n",
    "print(f\"Test MAE: {mae:.4f}\")\n",
    "print(f\"Test R² : {r2:.4f}\")\n",
    "\n",
    "best_models[name] = grid.best_estimator_\n",
    "model_results[name] = {\n",
    "    \"MSE\": mse,\n",
    "    \"MAE\": mae,\n",
    "    \"R2\": r2\n",
    "}\n",
    "\n",
    "# Trực quan hóa kết quả tìm kiếm siêu tham số\n",
    "visualize_tuning_results(grid, model_name=name)\n",
    "\n",
    "# Trực quan hóa mức độ chính xác của mô hình khi dùng bộ tham số tối ưu và bộ tham số mặc định bằng cách so sánh giữa giá trị thực tế (y_test) và giá trị dự đoán (y_pred) thông qua biểu đồ phân tán.\n",
    "compare_default_and_tuned_models(x_train, x_test, y_train, y_test, grid.best_estimator_, model_name=name)\n",
    "\n",
    "print(f\"✅ Hoàn thành: {name}\\n{'-'*50}\")\n"
   ]
  },
  {
   "cell_type": "markdown",
   "id": "rwRyOTMQdwDc",
   "metadata": {
    "id": "rwRyOTMQdwDc"
   },
   "source": [
    "### 🧠 Câu hỏi phân tích\n",
    "1. Dựa trên biểu đồ, bạn thấy tổ hợp giá trị nào cho ra Loss thấp nhất?\n",
    "\n",
    "2. Có tham số nào dường như có ảnh hưởng lớn hơn đến xu hướng của hàm Loss so với các tham số khác không?\n",
    "\n",
    "3. Nêu một đường trong biểu đồ cho thấy một cấu hình tệ (Loss cao), nếu có. Bạn có thể xác định được tham số nào gây ra điều đó?\n",
    "\n",
    "4.  Khi lựa chọn bộ siêu tham số để huấn luyện mô hình, bộ tham số sẽ xoay quanh các giá trị siêu tham số là bao nhiêu? Vì sao?"
   ]
  },
  {
   "cell_type": "markdown",
   "id": "176c13e6",
   "metadata": {},
   "source": [
    "Câu 1:\n",
    "- Tổ hợp cho Loss thấp nhất là:\n",
    "    - n_neighbors: 5\n",
    "    - p: 1\n",
    "    - weights: distance\n",
    "- Loss ~43.13B → đây là tổ hợp tốt nhất.  "
   ]
  },
  {
   "cell_type": "markdown",
   "id": "fec5b098",
   "metadata": {},
   "source": [
    "Câu 2:\n",
    "- Tổ hợp cho Loss tệ nhất là:\n",
    "    - n_neighbors = 13\n",
    "    - p = 2\n",
    "    - weights = uniform\n",
    "- Loss = ~51.48B → tổ hợp tệ nhất."
   ]
  },
  {
   "cell_type": "markdown",
   "id": "2b4fb5d9",
   "metadata": {},
   "source": [
    "Câu 3:\n",
    "- Với cùng các tham số khác, p=1 (Manhattan distance) thường cho Loss thấp hơn so với p=2 (Euclidean distance).\n",
    "- Điều này cho thấy Manhattan distance hoạt động hiệu quả hơn trong bài toán này.\n",
    "- Kết luận: Giá trị p=1 nên được ưu tiên nếu mục tiêu là giảm sai số dự đoán."
   ]
  },
  {
   "cell_type": "markdown",
   "id": "e0133763",
   "metadata": {},
   "source": [
    "Câu 4:\n",
    "- n_neighbors = [3,5,7] -> Các giá trị nhỏ giúp mô hình phản ứng nhạy hơn với các mẫu gần, từ đó giảm Loss.\n",
    "- p = 1 -> Manhattan distance hoạt động tốt hơn trong bài toán này so với Euclidean.\n",
    "- weight = \"distance\" -> Các điểm gần ảnh hưởng mạnh hơn, giúp cải thiện độ chính xác."
   ]
  },
  {
   "cell_type": "markdown",
   "id": "X7DzEMeAeRWH",
   "metadata": {
    "id": "X7DzEMeAeRWH"
   },
   "source": [
    "## Mô hình ***RandomForestRegressor***"
   ]
  },
  {
   "cell_type": "code",
   "execution_count": 36,
   "id": "8zp30O_F77o3",
   "metadata": {
    "id": "8zp30O_F77o3"
   },
   "outputs": [],
   "source": [
    "name = \"RandomForestRegressor\"\n",
    "model = models[name]"
   ]
  },
  {
   "cell_type": "code",
   "execution_count": 37,
   "id": "RE3rULEHnIoq",
   "metadata": {
    "colab": {
     "base_uri": "https://localhost:8080/",
     "height": 1000
    },
    "id": "RE3rULEHnIoq",
    "outputId": "ab3be4d4-aafc-4ff7-a884-b7a879722ecb"
   },
   "outputs": [
    {
     "name": "stdout",
     "output_type": "stream",
     "text": [
      "🔍 Đang tuning mô hình: RandomForestRegressor...\n",
      "📌 RandomForestRegressor\n",
      "Best parameters: {'max_depth': None, 'min_samples_split': 5, 'n_estimators': 200}\n",
      "Test MSE: 12812238665.5309\n",
      "Test MAE: 79055.6054\n",
      "Test R² : 0.8600\n"
     ]
    },
    {
     "data": {
      "application/vnd.plotly.v1+json": {
       "config": {
        "plotlyServerURL": "https://plot.ly"
       },
       "data": [
        {
         "dimensions": [
          {
           "label": "max_depth",
           "values": {
            "bdata": "AAAAAAAA+H8AAAAAAAD4fwAAAAAAAPh/AAAAAAAA+H8AAAAAAAD4fwAAAAAAAPh/AAAAAAAA+H8AAAAAAAD4fwAAAAAAAPA/AAAAAAAA8D8AAAAAAADwPwAAAAAAAPA/AAAAAAAA8D8AAAAAAADwPwAAAAAAAPA/AAAAAAAA8D8AAAAAAAAAQAAAAAAAAABAAAAAAAAAAEAAAAAAAAAAQAAAAAAAAABAAAAAAAAAAEAAAAAAAAAAQAAAAAAAAABA",
            "dtype": "f8"
           }
          },
          {
           "label": "min_samples_split",
           "values": {
            "bdata": "AAAAAAEBAQEAAAAAAQEBAQAAAAABAQEB",
            "dtype": "i1"
           }
          },
          {
           "label": "n_estimators",
           "values": {
            "bdata": "AAECAwABAgMAAQIDAAECAwABAgMAAQID",
            "dtype": "i1"
           }
          },
          {
           "label": "Loss",
           "values": {
            "bdata": "Jvn2scXYDUICwXxq2TwLQnLKh8co7wpCJfAXipasCkJjgcTnuL0NQvWRd6eBKQtCO/yN0IrjCkKtYXMB9aEKQuD7n+Ds+g1Ci9qUHdKMC0KwtCxrK0ULQrhReKxaEAtCSO4P9P7sDUIjwBNTv4ULQi1xxMnqQAtC6z6EawYNC0I6Yw9WPgUOQsJ8SgJ8SQtC1UrZit/sCkJDg0SYBKkKQsZCXM5Ssw1CXnVizfIoC0KAk2j6C+QKQsAbvrE4owpC",
            "dtype": "f8"
           }
          }
         ],
         "domain": {
          "x": [
           0,
           1
          ],
          "y": [
           0,
           1
          ]
         },
         "line": {
          "color": {
           "bdata": "Jvn2scXYDUICwXxq2TwLQnLKh8co7wpCJfAXipasCkJjgcTnuL0NQvWRd6eBKQtCO/yN0IrjCkKtYXMB9aEKQuD7n+Ds+g1Ci9qUHdKMC0KwtCxrK0ULQrhReKxaEAtCSO4P9P7sDUIjwBNTv4ULQi1xxMnqQAtC6z6EawYNC0I6Yw9WPgUOQsJ8SgJ8SQtC1UrZit/sCkJDg0SYBKkKQsZCXM5Ssw1CXnVizfIoC0KAk2j6C+QKQsAbvrE4owpC",
           "dtype": "f8"
          },
          "coloraxis": "coloraxis"
         },
         "name": "",
         "type": "parcoords"
        }
       ],
       "layout": {
        "coloraxis": {
         "colorbar": {
          "title": {
           "text": "Loss"
          }
         },
         "colorscale": [
          [
           0,
           "#0d0887"
          ],
          [
           0.1111111111111111,
           "#46039f"
          ],
          [
           0.2222222222222222,
           "#7201a8"
          ],
          [
           0.3333333333333333,
           "#9c179e"
          ],
          [
           0.4444444444444444,
           "#bd3786"
          ],
          [
           0.5555555555555556,
           "#d8576b"
          ],
          [
           0.6666666666666666,
           "#ed7953"
          ],
          [
           0.7777777777777778,
           "#fb9f3a"
          ],
          [
           0.8888888888888888,
           "#fdca26"
          ],
          [
           1,
           "#f0f921"
          ]
         ]
        },
        "legend": {
         "tracegroupgap": 0
        },
        "template": {
         "data": {
          "bar": [
           {
            "error_x": {
             "color": "#2a3f5f"
            },
            "error_y": {
             "color": "#2a3f5f"
            },
            "marker": {
             "line": {
              "color": "#E5ECF6",
              "width": 0.5
             },
             "pattern": {
              "fillmode": "overlay",
              "size": 10,
              "solidity": 0.2
             }
            },
            "type": "bar"
           }
          ],
          "barpolar": [
           {
            "marker": {
             "line": {
              "color": "#E5ECF6",
              "width": 0.5
             },
             "pattern": {
              "fillmode": "overlay",
              "size": 10,
              "solidity": 0.2
             }
            },
            "type": "barpolar"
           }
          ],
          "carpet": [
           {
            "aaxis": {
             "endlinecolor": "#2a3f5f",
             "gridcolor": "white",
             "linecolor": "white",
             "minorgridcolor": "white",
             "startlinecolor": "#2a3f5f"
            },
            "baxis": {
             "endlinecolor": "#2a3f5f",
             "gridcolor": "white",
             "linecolor": "white",
             "minorgridcolor": "white",
             "startlinecolor": "#2a3f5f"
            },
            "type": "carpet"
           }
          ],
          "choropleth": [
           {
            "colorbar": {
             "outlinewidth": 0,
             "ticks": ""
            },
            "type": "choropleth"
           }
          ],
          "contour": [
           {
            "colorbar": {
             "outlinewidth": 0,
             "ticks": ""
            },
            "colorscale": [
             [
              0,
              "#0d0887"
             ],
             [
              0.1111111111111111,
              "#46039f"
             ],
             [
              0.2222222222222222,
              "#7201a8"
             ],
             [
              0.3333333333333333,
              "#9c179e"
             ],
             [
              0.4444444444444444,
              "#bd3786"
             ],
             [
              0.5555555555555556,
              "#d8576b"
             ],
             [
              0.6666666666666666,
              "#ed7953"
             ],
             [
              0.7777777777777778,
              "#fb9f3a"
             ],
             [
              0.8888888888888888,
              "#fdca26"
             ],
             [
              1,
              "#f0f921"
             ]
            ],
            "type": "contour"
           }
          ],
          "contourcarpet": [
           {
            "colorbar": {
             "outlinewidth": 0,
             "ticks": ""
            },
            "type": "contourcarpet"
           }
          ],
          "heatmap": [
           {
            "colorbar": {
             "outlinewidth": 0,
             "ticks": ""
            },
            "colorscale": [
             [
              0,
              "#0d0887"
             ],
             [
              0.1111111111111111,
              "#46039f"
             ],
             [
              0.2222222222222222,
              "#7201a8"
             ],
             [
              0.3333333333333333,
              "#9c179e"
             ],
             [
              0.4444444444444444,
              "#bd3786"
             ],
             [
              0.5555555555555556,
              "#d8576b"
             ],
             [
              0.6666666666666666,
              "#ed7953"
             ],
             [
              0.7777777777777778,
              "#fb9f3a"
             ],
             [
              0.8888888888888888,
              "#fdca26"
             ],
             [
              1,
              "#f0f921"
             ]
            ],
            "type": "heatmap"
           }
          ],
          "histogram": [
           {
            "marker": {
             "pattern": {
              "fillmode": "overlay",
              "size": 10,
              "solidity": 0.2
             }
            },
            "type": "histogram"
           }
          ],
          "histogram2d": [
           {
            "colorbar": {
             "outlinewidth": 0,
             "ticks": ""
            },
            "colorscale": [
             [
              0,
              "#0d0887"
             ],
             [
              0.1111111111111111,
              "#46039f"
             ],
             [
              0.2222222222222222,
              "#7201a8"
             ],
             [
              0.3333333333333333,
              "#9c179e"
             ],
             [
              0.4444444444444444,
              "#bd3786"
             ],
             [
              0.5555555555555556,
              "#d8576b"
             ],
             [
              0.6666666666666666,
              "#ed7953"
             ],
             [
              0.7777777777777778,
              "#fb9f3a"
             ],
             [
              0.8888888888888888,
              "#fdca26"
             ],
             [
              1,
              "#f0f921"
             ]
            ],
            "type": "histogram2d"
           }
          ],
          "histogram2dcontour": [
           {
            "colorbar": {
             "outlinewidth": 0,
             "ticks": ""
            },
            "colorscale": [
             [
              0,
              "#0d0887"
             ],
             [
              0.1111111111111111,
              "#46039f"
             ],
             [
              0.2222222222222222,
              "#7201a8"
             ],
             [
              0.3333333333333333,
              "#9c179e"
             ],
             [
              0.4444444444444444,
              "#bd3786"
             ],
             [
              0.5555555555555556,
              "#d8576b"
             ],
             [
              0.6666666666666666,
              "#ed7953"
             ],
             [
              0.7777777777777778,
              "#fb9f3a"
             ],
             [
              0.8888888888888888,
              "#fdca26"
             ],
             [
              1,
              "#f0f921"
             ]
            ],
            "type": "histogram2dcontour"
           }
          ],
          "mesh3d": [
           {
            "colorbar": {
             "outlinewidth": 0,
             "ticks": ""
            },
            "type": "mesh3d"
           }
          ],
          "parcoords": [
           {
            "line": {
             "colorbar": {
              "outlinewidth": 0,
              "ticks": ""
             }
            },
            "type": "parcoords"
           }
          ],
          "pie": [
           {
            "automargin": true,
            "type": "pie"
           }
          ],
          "scatter": [
           {
            "fillpattern": {
             "fillmode": "overlay",
             "size": 10,
             "solidity": 0.2
            },
            "type": "scatter"
           }
          ],
          "scatter3d": [
           {
            "line": {
             "colorbar": {
              "outlinewidth": 0,
              "ticks": ""
             }
            },
            "marker": {
             "colorbar": {
              "outlinewidth": 0,
              "ticks": ""
             }
            },
            "type": "scatter3d"
           }
          ],
          "scattercarpet": [
           {
            "marker": {
             "colorbar": {
              "outlinewidth": 0,
              "ticks": ""
             }
            },
            "type": "scattercarpet"
           }
          ],
          "scattergeo": [
           {
            "marker": {
             "colorbar": {
              "outlinewidth": 0,
              "ticks": ""
             }
            },
            "type": "scattergeo"
           }
          ],
          "scattergl": [
           {
            "marker": {
             "colorbar": {
              "outlinewidth": 0,
              "ticks": ""
             }
            },
            "type": "scattergl"
           }
          ],
          "scattermap": [
           {
            "marker": {
             "colorbar": {
              "outlinewidth": 0,
              "ticks": ""
             }
            },
            "type": "scattermap"
           }
          ],
          "scattermapbox": [
           {
            "marker": {
             "colorbar": {
              "outlinewidth": 0,
              "ticks": ""
             }
            },
            "type": "scattermapbox"
           }
          ],
          "scatterpolar": [
           {
            "marker": {
             "colorbar": {
              "outlinewidth": 0,
              "ticks": ""
             }
            },
            "type": "scatterpolar"
           }
          ],
          "scatterpolargl": [
           {
            "marker": {
             "colorbar": {
              "outlinewidth": 0,
              "ticks": ""
             }
            },
            "type": "scatterpolargl"
           }
          ],
          "scatterternary": [
           {
            "marker": {
             "colorbar": {
              "outlinewidth": 0,
              "ticks": ""
             }
            },
            "type": "scatterternary"
           }
          ],
          "surface": [
           {
            "colorbar": {
             "outlinewidth": 0,
             "ticks": ""
            },
            "colorscale": [
             [
              0,
              "#0d0887"
             ],
             [
              0.1111111111111111,
              "#46039f"
             ],
             [
              0.2222222222222222,
              "#7201a8"
             ],
             [
              0.3333333333333333,
              "#9c179e"
             ],
             [
              0.4444444444444444,
              "#bd3786"
             ],
             [
              0.5555555555555556,
              "#d8576b"
             ],
             [
              0.6666666666666666,
              "#ed7953"
             ],
             [
              0.7777777777777778,
              "#fb9f3a"
             ],
             [
              0.8888888888888888,
              "#fdca26"
             ],
             [
              1,
              "#f0f921"
             ]
            ],
            "type": "surface"
           }
          ],
          "table": [
           {
            "cells": {
             "fill": {
              "color": "#EBF0F8"
             },
             "line": {
              "color": "white"
             }
            },
            "header": {
             "fill": {
              "color": "#C8D4E3"
             },
             "line": {
              "color": "white"
             }
            },
            "type": "table"
           }
          ]
         },
         "layout": {
          "annotationdefaults": {
           "arrowcolor": "#2a3f5f",
           "arrowhead": 0,
           "arrowwidth": 1
          },
          "autotypenumbers": "strict",
          "coloraxis": {
           "colorbar": {
            "outlinewidth": 0,
            "ticks": ""
           }
          },
          "colorscale": {
           "diverging": [
            [
             0,
             "#8e0152"
            ],
            [
             0.1,
             "#c51b7d"
            ],
            [
             0.2,
             "#de77ae"
            ],
            [
             0.3,
             "#f1b6da"
            ],
            [
             0.4,
             "#fde0ef"
            ],
            [
             0.5,
             "#f7f7f7"
            ],
            [
             0.6,
             "#e6f5d0"
            ],
            [
             0.7,
             "#b8e186"
            ],
            [
             0.8,
             "#7fbc41"
            ],
            [
             0.9,
             "#4d9221"
            ],
            [
             1,
             "#276419"
            ]
           ],
           "sequential": [
            [
             0,
             "#0d0887"
            ],
            [
             0.1111111111111111,
             "#46039f"
            ],
            [
             0.2222222222222222,
             "#7201a8"
            ],
            [
             0.3333333333333333,
             "#9c179e"
            ],
            [
             0.4444444444444444,
             "#bd3786"
            ],
            [
             0.5555555555555556,
             "#d8576b"
            ],
            [
             0.6666666666666666,
             "#ed7953"
            ],
            [
             0.7777777777777778,
             "#fb9f3a"
            ],
            [
             0.8888888888888888,
             "#fdca26"
            ],
            [
             1,
             "#f0f921"
            ]
           ],
           "sequentialminus": [
            [
             0,
             "#0d0887"
            ],
            [
             0.1111111111111111,
             "#46039f"
            ],
            [
             0.2222222222222222,
             "#7201a8"
            ],
            [
             0.3333333333333333,
             "#9c179e"
            ],
            [
             0.4444444444444444,
             "#bd3786"
            ],
            [
             0.5555555555555556,
             "#d8576b"
            ],
            [
             0.6666666666666666,
             "#ed7953"
            ],
            [
             0.7777777777777778,
             "#fb9f3a"
            ],
            [
             0.8888888888888888,
             "#fdca26"
            ],
            [
             1,
             "#f0f921"
            ]
           ]
          },
          "colorway": [
           "#636efa",
           "#EF553B",
           "#00cc96",
           "#ab63fa",
           "#FFA15A",
           "#19d3f3",
           "#FF6692",
           "#B6E880",
           "#FF97FF",
           "#FECB52"
          ],
          "font": {
           "color": "#2a3f5f"
          },
          "geo": {
           "bgcolor": "white",
           "lakecolor": "white",
           "landcolor": "#E5ECF6",
           "showlakes": true,
           "showland": true,
           "subunitcolor": "white"
          },
          "hoverlabel": {
           "align": "left"
          },
          "hovermode": "closest",
          "mapbox": {
           "style": "light"
          },
          "paper_bgcolor": "white",
          "plot_bgcolor": "#E5ECF6",
          "polar": {
           "angularaxis": {
            "gridcolor": "white",
            "linecolor": "white",
            "ticks": ""
           },
           "bgcolor": "#E5ECF6",
           "radialaxis": {
            "gridcolor": "white",
            "linecolor": "white",
            "ticks": ""
           }
          },
          "scene": {
           "xaxis": {
            "backgroundcolor": "#E5ECF6",
            "gridcolor": "white",
            "gridwidth": 2,
            "linecolor": "white",
            "showbackground": true,
            "ticks": "",
            "zerolinecolor": "white"
           },
           "yaxis": {
            "backgroundcolor": "#E5ECF6",
            "gridcolor": "white",
            "gridwidth": 2,
            "linecolor": "white",
            "showbackground": true,
            "ticks": "",
            "zerolinecolor": "white"
           },
           "zaxis": {
            "backgroundcolor": "#E5ECF6",
            "gridcolor": "white",
            "gridwidth": 2,
            "linecolor": "white",
            "showbackground": true,
            "ticks": "",
            "zerolinecolor": "white"
           }
          },
          "shapedefaults": {
           "line": {
            "color": "#2a3f5f"
           }
          },
          "ternary": {
           "aaxis": {
            "gridcolor": "white",
            "linecolor": "white",
            "ticks": ""
           },
           "baxis": {
            "gridcolor": "white",
            "linecolor": "white",
            "ticks": ""
           },
           "bgcolor": "#E5ECF6",
           "caxis": {
            "gridcolor": "white",
            "linecolor": "white",
            "ticks": ""
           }
          },
          "title": {
           "x": 0.05
          },
          "xaxis": {
           "automargin": true,
           "gridcolor": "white",
           "linecolor": "white",
           "ticks": "",
           "title": {
            "standoff": 15
           },
           "zerolinecolor": "white",
           "zerolinewidth": 2
          },
          "yaxis": {
           "automargin": true,
           "gridcolor": "white",
           "linecolor": "white",
           "ticks": "",
           "title": {
            "standoff": 15
           },
           "zerolinecolor": "white",
           "zerolinewidth": 2
          }
         }
        },
        "title": {
         "text": "Tuning Visualization - RandomForestRegressor"
        }
       }
      }
     },
     "metadata": {},
     "output_type": "display_data"
    },
    {
     "name": "stdout",
     "output_type": "stream",
     "text": [
      "\n",
      "🔤 String-to-Int Mappings for RandomForestRegressor:\n",
      " - max_depth: {None: 0, 10: 1, 20: 2}\n",
      " - min_samples_split: {2: 0, 5: 1}\n",
      " - n_estimators: {10: 0, 50: 1, 100: 2, 200: 3}\n"
     ]
    },
    {
     "data": {
      "image/png": "[encoded data removed]",
      "text/plain": [
       "<Figure size 1400x600 with 2 Axes>"
      ]
     },
     "metadata": {},
     "output_type": "display_data"
    },
    {
     "name": "stdout",
     "output_type": "stream",
     "text": [
      "✅ Hoàn thành: RandomForestRegressor\n",
      "--------------------------------------------------\n"
     ]
    }
   ],
   "source": [
    "# Chạy tuning và trực quan hóa cho mô hình RandomForestRegressor\n",
    "\n",
    "name = \"RandomForestRegressor\"\n",
    "model = models[name]\n",
    "print(f\"🔍 Đang tuning mô hình: {name}...\")\n",
    "\n",
    "grid = GridSearchCV(model, param_grids[name], cv=5, scoring='neg_mean_squared_error', n_jobs=-1)\n",
    "grid.fit(x_train, y_train)\n",
    "\n",
    "y_pred = grid.predict(x_test)\n",
    "mse = mean_squared_error(y_test, y_pred)\n",
    "mae = mean_absolute_error(y_test, y_pred)\n",
    "r2 = r2_score(y_test, y_pred)\n",
    "\n",
    "print(f\"📌 {name}\")\n",
    "print(\"Best parameters:\", grid.best_params_)\n",
    "print(f\"Test MSE: {mse:.4f}\")\n",
    "print(f\"Test MAE: {mae:.4f}\")\n",
    "print(f\"Test R² : {r2:.4f}\")\n",
    "\n",
    "best_models[name] = grid.best_estimator_\n",
    "model_results[name] = {\n",
    "    \"MSE\": mse,\n",
    "    \"MAE\": mae,\n",
    "    \"R2\": r2\n",
    "}\n",
    "\n",
    "# Trực quan hóa kết quả tìm kiếm siêu tham số\n",
    "visualize_tuning_results(grid, model_name=name)\n",
    "\n",
    "# Trực quan hóa mức độ chính xác của mô hình khi dùng bộ tham số tối ưu và bộ tham số mặc định bằng cách so sánh giữa giá trị thực tế (y_test) và giá trị dự đoán (y_pred) thông qua biểu đồ phân tán.\n",
    "compare_default_and_tuned_models(x_train, x_test, y_train, y_test, grid.best_estimator_, model_name=name)\n",
    "\n",
    "print(f\"✅ Hoàn thành: {name}\\n{'-'*50}\")"
   ]
  },
  {
   "cell_type": "markdown",
   "id": "L_n0ZcR8dtvE",
   "metadata": {
    "id": "L_n0ZcR8dtvE"
   },
   "source": [
    "### 🧠 Câu hỏi phân tích\n",
    "1. Dựa trên biểu đồ, bạn thấy tổ hợp giá trị nào cho ra Loss thấp nhất?\n",
    "\n",
    "2. Có tham số nào dường như có ảnh hưởng lớn hơn đến xu hướng của hàm Loss so với các tham số khác không?\n",
    "\n",
    "3. Nêu một đường trong biểu đồ cho thấy một cấu hình tệ (Loss cao), nếu có. Bạn có thể xác định được tham số nào gây ra điều đó?\n",
    "\n",
    "4.  Khi lựa chọn bộ siêu tham số để huấn luyện mô hình, bộ tham số sẽ xoay quanh các giá trị siêu tham số là bao nhiêu? Vì sao"
   ]
  },
  {
   "cell_type": "markdown",
   "id": "f177dc0a",
   "metadata": {},
   "source": [
    "Câu 1:\n",
    "- Tổ hợp giá trị cho Loss thấp nhất (~14.2983B) là: \n",
    "    - max_depth = None \n",
    "    - min_samples_split = 5 \n",
    "    - n_estimators = 200"
   ]
  },
  {
   "cell_type": "markdown",
   "id": "c37f710c",
   "metadata": {},
   "source": [
    "Câu 2:  \n",
    "➡️ Quan sát độ phân tán màu sắc theo từng trục:\n",
    "\n",
    "- max_depth và n_estimators có vẻ ảnh hưởng lớn hơn.\n",
    "\n",
    "- Khi max_depth = 2 → Loss thường rất cao (vàng đậm).\n",
    "\n",
    "- n_estimators nhỏ (10) → Loss cao hơn hẳn. Tăng n_estimators thường kéo giảm Loss.\n",
    "\n",
    "🔍 Trong khi đó:\n",
    "\n",
    "- min_samples_split không tạo ra biến động Loss rõ rệt khi giữ các tham số khác cố định.\n",
    "\n",
    "🟡 Kết luận: max_depth và n_estimators có ảnh hưởng lớn hơn đến chất lượng mô hình."
   ]
  },
  {
   "cell_type": "markdown",
   "id": "680c035e",
   "metadata": {},
   "source": [
    "Câu 3:  \n",
    "🔍 Có một đường màu vàng nổi bật (Loss cao nhất ~16.1009B), tương ứng với:\n",
    "- max_depth = 2 (giới hạn độ sâu rất nhỏ)\n",
    "- min_samples_split = 5\n",
    "- n_estimators = 10\n",
    "\n",
    "➡️ Nguyên nhân chính:\n",
    "- max_depth = 2 khiến cây cực kỳ nông, không học được nhiều đặc trưng → underfitting.\n",
    "- n_estimators = 10 quá ít cây → giảm tính ngẫu nhiên & độ ổn định của rừng.\n"
   ]
  },
  {
   "cell_type": "markdown",
   "id": "371abc0c",
   "metadata": {},
   "source": [
    "Câu 4:\n",
    "- max_depth: None hoặc 10+\t-> Giúp cây học sâu hơn → giảm Loss rõ rệt\n",
    "- min_samples_split:\t2 ->\tCho phép chia nhỏ hơn → mô hình linh hoạt\n",
    "- n_estimators:\t100–200\t-> Càng nhiều cây → càng ổn định và giảm lỗi"
   ]
  },
  {
   "cell_type": "markdown",
   "id": "h7iO4RnWeTyi",
   "metadata": {
    "id": "h7iO4RnWeTyi"
   },
   "source": [
    "## Mô hình ***DecisionTreeRegressor***"
   ]
  },
  {
   "cell_type": "code",
   "execution_count": 38,
   "id": "J5bzqOE3nLUX",
   "metadata": {
    "colab": {
     "base_uri": "https://localhost:8080/",
     "height": 1000
    },
    "id": "J5bzqOE3nLUX",
    "outputId": "58621ffb-e606-4086-c195-8e3126eb9b7c"
   },
   "outputs": [
    {
     "name": "stdout",
     "output_type": "stream",
     "text": [
      "🔍 Đang tuning mô hình: DecisionTreeRegressor...\n",
      "📌 DecisionTreeRegressor\n",
      "Best parameters: {'max_depth': 10, 'min_samples_leaf': 2, 'min_samples_split': 6}\n",
      "Test MSE: 26104444188.5141\n",
      "Test MAE: 130362.3806\n",
      "Test R² : 0.7147\n"
     ]
    },
    {
     "data": {
      "application/vnd.plotly.v1+json": {
       "config": {
        "plotlyServerURL": "https://plot.ly"
       },
       "data": [
        {
         "dimensions": [
          {
           "label": "max_depth",
           "values": {
            "bdata": "AAAAAAAA+H8AAAAAAAD4fwAAAAAAAPh/AAAAAAAA+H8AAAAAAAD4fwAAAAAAAPh/AAAAAAAA8D8AAAAAAADwPwAAAAAAAPA/AAAAAAAA8D8AAAAAAADwPwAAAAAAAPA/AAAAAAAAAEAAAAAAAAAAQAAAAAAAAABAAAAAAAAAAEAAAAAAAAAAQAAAAAAAAABA",
            "dtype": "f8"
           }
          },
          {
           "label": "min_samples_leaf",
           "values": {
            "bdata": "AAAAAQEBAAAAAQEBAAAAAQEB",
            "dtype": "i1"
           }
          },
          {
           "label": "min_samples_split",
           "values": {
            "bdata": "AAECAAECAAECAAECAAECAAEC",
            "dtype": "i1"
           }
          },
          {
           "label": "Loss",
           "values": {
            "bdata": "mvPgAdfCHUI6FwZwYMscQls9EZcYoRtCOhoYFKA1G0I6GhgUoDUbQrDWd/nCXxpC9u+27o12I0L277bujXYjQvbvtu6NdiNCQNZ47Ah5I0JA1njsCHkjQkDWeOwIeSNCe1Fr4VtsGkJCb8gGtxMaQs5IQ2/2qBlCgKOXTCejGUKAo5dMJ6MZQoaG+G3AQBlC",
            "dtype": "f8"
           }
          }
         ],
         "domain": {
          "x": [
           0,
           1
          ],
          "y": [
           0,
           1
          ]
         },
         "line": {
          "color": {
           "bdata": "mvPgAdfCHUI6FwZwYMscQls9EZcYoRtCOhoYFKA1G0I6GhgUoDUbQrDWd/nCXxpC9u+27o12I0L277bujXYjQvbvtu6NdiNCQNZ47Ah5I0JA1njsCHkjQkDWeOwIeSNCe1Fr4VtsGkJCb8gGtxMaQs5IQ2/2qBlCgKOXTCejGUKAo5dMJ6MZQoaG+G3AQBlC",
           "dtype": "f8"
          },
          "coloraxis": "coloraxis"
         },
         "name": "",
         "type": "parcoords"
        }
       ],
       "layout": {
        "coloraxis": {
         "colorbar": {
          "title": {
           "text": "Loss"
          }
         },
         "colorscale": [
          [
           0,
           "#0d0887"
          ],
          [
           0.1111111111111111,
           "#46039f"
          ],
          [
           0.2222222222222222,
           "#7201a8"
          ],
          [
           0.3333333333333333,
           "#9c179e"
          ],
          [
           0.4444444444444444,
           "#bd3786"
          ],
          [
           0.5555555555555556,
           "#d8576b"
          ],
          [
           0.6666666666666666,
           "#ed7953"
          ],
          [
           0.7777777777777778,
           "#fb9f3a"
          ],
          [
           0.8888888888888888,
           "#fdca26"
          ],
          [
           1,
           "#f0f921"
          ]
         ]
        },
        "legend": {
         "tracegroupgap": 0
        },
        "template": {
         "data": {
          "bar": [
           {
            "error_x": {
             "color": "#2a3f5f"
            },
            "error_y": {
             "color": "#2a3f5f"
            },
            "marker": {
             "line": {
              "color": "#E5ECF6",
              "width": 0.5
             },
             "pattern": {
              "fillmode": "overlay",
              "size": 10,
              "solidity": 0.2
             }
            },
            "type": "bar"
           }
          ],
          "barpolar": [
           {
            "marker": {
             "line": {
              "color": "#E5ECF6",
              "width": 0.5
             },
             "pattern": {
              "fillmode": "overlay",
              "size": 10,
              "solidity": 0.2
             }
            },
            "type": "barpolar"
           }
          ],
          "carpet": [
           {
            "aaxis": {
             "endlinecolor": "#2a3f5f",
             "gridcolor": "white",
             "linecolor": "white",
             "minorgridcolor": "white",
             "startlinecolor": "#2a3f5f"
            },
            "baxis": {
             "endlinecolor": "#2a3f5f",
             "gridcolor": "white",
             "linecolor": "white",
             "minorgridcolor": "white",
             "startlinecolor": "#2a3f5f"
            },
            "type": "carpet"
           }
          ],
          "choropleth": [
           {
            "colorbar": {
             "outlinewidth": 0,
             "ticks": ""
            },
            "type": "choropleth"
           }
          ],
          "contour": [
           {
            "colorbar": {
             "outlinewidth": 0,
             "ticks": ""
            },
            "colorscale": [
             [
              0,
              "#0d0887"
             ],
             [
              0.1111111111111111,
              "#46039f"
             ],
             [
              0.2222222222222222,
              "#7201a8"
             ],
             [
              0.3333333333333333,
              "#9c179e"
             ],
             [
              0.4444444444444444,
              "#bd3786"
             ],
             [
              0.5555555555555556,
              "#d8576b"
             ],
             [
              0.6666666666666666,
              "#ed7953"
             ],
             [
              0.7777777777777778,
              "#fb9f3a"
             ],
             [
              0.8888888888888888,
              "#fdca26"
             ],
             [
              1,
              "#f0f921"
             ]
            ],
            "type": "contour"
           }
          ],
          "contourcarpet": [
           {
            "colorbar": {
             "outlinewidth": 0,
             "ticks": ""
            },
            "type": "contourcarpet"
           }
          ],
          "heatmap": [
           {
            "colorbar": {
             "outlinewidth": 0,
             "ticks": ""
            },
            "colorscale": [
             [
              0,
              "#0d0887"
             ],
             [
              0.1111111111111111,
              "#46039f"
             ],
             [
              0.2222222222222222,
              "#7201a8"
             ],
             [
              0.3333333333333333,
              "#9c179e"
             ],
             [
              0.4444444444444444,
              "#bd3786"
             ],
             [
              0.5555555555555556,
              "#d8576b"
             ],
             [
              0.6666666666666666,
              "#ed7953"
             ],
             [
              0.7777777777777778,
              "#fb9f3a"
             ],
             [
              0.8888888888888888,
              "#fdca26"
             ],
             [
              1,
              "#f0f921"
             ]
            ],
            "type": "heatmap"
           }
          ],
          "histogram": [
           {
            "marker": {
             "pattern": {
              "fillmode": "overlay",
              "size": 10,
              "solidity": 0.2
             }
            },
            "type": "histogram"
           }
          ],
          "histogram2d": [
           {
            "colorbar": {
             "outlinewidth": 0,
             "ticks": ""
            },
            "colorscale": [
             [
              0,
              "#0d0887"
             ],
             [
              0.1111111111111111,
              "#46039f"
             ],
             [
              0.2222222222222222,
              "#7201a8"
             ],
             [
              0.3333333333333333,
              "#9c179e"
             ],
             [
              0.4444444444444444,
              "#bd3786"
             ],
             [
              0.5555555555555556,
              "#d8576b"
             ],
             [
              0.6666666666666666,
              "#ed7953"
             ],
             [
              0.7777777777777778,
              "#fb9f3a"
             ],
             [
              0.8888888888888888,
              "#fdca26"
             ],
             [
              1,
              "#f0f921"
             ]
            ],
            "type": "histogram2d"
           }
          ],
          "histogram2dcontour": [
           {
            "colorbar": {
             "outlinewidth": 0,
             "ticks": ""
            },
            "colorscale": [
             [
              0,
              "#0d0887"
             ],
             [
              0.1111111111111111,
              "#46039f"
             ],
             [
              0.2222222222222222,
              "#7201a8"
             ],
             [
              0.3333333333333333,
              "#9c179e"
             ],
             [
              0.4444444444444444,
              "#bd3786"
             ],
             [
              0.5555555555555556,
              "#d8576b"
             ],
             [
              0.6666666666666666,
              "#ed7953"
             ],
             [
              0.7777777777777778,
              "#fb9f3a"
             ],
             [
              0.8888888888888888,
              "#fdca26"
             ],
             [
              1,
              "#f0f921"
             ]
            ],
            "type": "histogram2dcontour"
           }
          ],
          "mesh3d": [
           {
            "colorbar": {
             "outlinewidth": 0,
             "ticks": ""
            },
            "type": "mesh3d"
           }
          ],
          "parcoords": [
           {
            "line": {
             "colorbar": {
              "outlinewidth": 0,
              "ticks": ""
             }
            },
            "type": "parcoords"
           }
          ],
          "pie": [
           {
            "automargin": true,
            "type": "pie"
           }
          ],
          "scatter": [
           {
            "fillpattern": {
             "fillmode": "overlay",
             "size": 10,
             "solidity": 0.2
            },
            "type": "scatter"
           }
          ],
          "scatter3d": [
           {
            "line": {
             "colorbar": {
              "outlinewidth": 0,
              "ticks": ""
             }
            },
            "marker": {
             "colorbar": {
              "outlinewidth": 0,
              "ticks": ""
             }
            },
            "type": "scatter3d"
           }
          ],
          "scattercarpet": [
           {
            "marker": {
             "colorbar": {
              "outlinewidth": 0,
              "ticks": ""
             }
            },
            "type": "scattercarpet"
           }
          ],
          "scattergeo": [
           {
            "marker": {
             "colorbar": {
              "outlinewidth": 0,
              "ticks": ""
             }
            },
            "type": "scattergeo"
           }
          ],
          "scattergl": [
           {
            "marker": {
             "colorbar": {
              "outlinewidth": 0,
              "ticks": ""
             }
            },
            "type": "scattergl"
           }
          ],
          "scattermap": [
           {
            "marker": {
             "colorbar": {
              "outlinewidth": 0,
              "ticks": ""
             }
            },
            "type": "scattermap"
           }
          ],
          "scattermapbox": [
           {
            "marker": {
             "colorbar": {
              "outlinewidth": 0,
              "ticks": ""
             }
            },
            "type": "scattermapbox"
           }
          ],
          "scatterpolar": [
           {
            "marker": {
             "colorbar": {
              "outlinewidth": 0,
              "ticks": ""
             }
            },
            "type": "scatterpolar"
           }
          ],
          "scatterpolargl": [
           {
            "marker": {
             "colorbar": {
              "outlinewidth": 0,
              "ticks": ""
             }
            },
            "type": "scatterpolargl"
           }
          ],
          "scatterternary": [
           {
            "marker": {
             "colorbar": {
              "outlinewidth": 0,
              "ticks": ""
             }
            },
            "type": "scatterternary"
           }
          ],
          "surface": [
           {
            "colorbar": {
             "outlinewidth": 0,
             "ticks": ""
            },
            "colorscale": [
             [
              0,
              "#0d0887"
             ],
             [
              0.1111111111111111,
              "#46039f"
             ],
             [
              0.2222222222222222,
              "#7201a8"
             ],
             [
              0.3333333333333333,
              "#9c179e"
             ],
             [
              0.4444444444444444,
              "#bd3786"
             ],
             [
              0.5555555555555556,
              "#d8576b"
             ],
             [
              0.6666666666666666,
              "#ed7953"
             ],
             [
              0.7777777777777778,
              "#fb9f3a"
             ],
             [
              0.8888888888888888,
              "#fdca26"
             ],
             [
              1,
              "#f0f921"
             ]
            ],
            "type": "surface"
           }
          ],
          "table": [
           {
            "cells": {
             "fill": {
              "color": "#EBF0F8"
             },
             "line": {
              "color": "white"
             }
            },
            "header": {
             "fill": {
              "color": "#C8D4E3"
             },
             "line": {
              "color": "white"
             }
            },
            "type": "table"
           }
          ]
         },
         "layout": {
          "annotationdefaults": {
           "arrowcolor": "#2a3f5f",
           "arrowhead": 0,
           "arrowwidth": 1
          },
          "autotypenumbers": "strict",
          "coloraxis": {
           "colorbar": {
            "outlinewidth": 0,
            "ticks": ""
           }
          },
          "colorscale": {
           "diverging": [
            [
             0,
             "#8e0152"
            ],
            [
             0.1,
             "#c51b7d"
            ],
            [
             0.2,
             "#de77ae"
            ],
            [
             0.3,
             "#f1b6da"
            ],
            [
             0.4,
             "#fde0ef"
            ],
            [
             0.5,
             "#f7f7f7"
            ],
            [
             0.6,
             "#e6f5d0"
            ],
            [
             0.7,
             "#b8e186"
            ],
            [
             0.8,
             "#7fbc41"
            ],
            [
             0.9,
             "#4d9221"
            ],
            [
             1,
             "#276419"
            ]
           ],
           "sequential": [
            [
             0,
             "#0d0887"
            ],
            [
             0.1111111111111111,
             "#46039f"
            ],
            [
             0.2222222222222222,
             "#7201a8"
            ],
            [
             0.3333333333333333,
             "#9c179e"
            ],
            [
             0.4444444444444444,
             "#bd3786"
            ],
            [
             0.5555555555555556,
             "#d8576b"
            ],
            [
             0.6666666666666666,
             "#ed7953"
            ],
            [
             0.7777777777777778,
             "#fb9f3a"
            ],
            [
             0.8888888888888888,
             "#fdca26"
            ],
            [
             1,
             "#f0f921"
            ]
           ],
           "sequentialminus": [
            [
             0,
             "#0d0887"
            ],
            [
             0.1111111111111111,
             "#46039f"
            ],
            [
             0.2222222222222222,
             "#7201a8"
            ],
            [
             0.3333333333333333,
             "#9c179e"
            ],
            [
             0.4444444444444444,
             "#bd3786"
            ],
            [
             0.5555555555555556,
             "#d8576b"
            ],
            [
             0.6666666666666666,
             "#ed7953"
            ],
            [
             0.7777777777777778,
             "#fb9f3a"
            ],
            [
             0.8888888888888888,
             "#fdca26"
            ],
            [
             1,
             "#f0f921"
            ]
           ]
          },
          "colorway": [
           "#636efa",
           "#EF553B",
           "#00cc96",
           "#ab63fa",
           "#FFA15A",
           "#19d3f3",
           "#FF6692",
           "#B6E880",
           "#FF97FF",
           "#FECB52"
          ],
          "font": {
           "color": "#2a3f5f"
          },
          "geo": {
           "bgcolor": "white",
           "lakecolor": "white",
           "landcolor": "#E5ECF6",
           "showlakes": true,
           "showland": true,
           "subunitcolor": "white"
          },
          "hoverlabel": {
           "align": "left"
          },
          "hovermode": "closest",
          "mapbox": {
           "style": "light"
          },
          "paper_bgcolor": "white",
          "plot_bgcolor": "#E5ECF6",
          "polar": {
           "angularaxis": {
            "gridcolor": "white",
            "linecolor": "white",
            "ticks": ""
           },
           "bgcolor": "#E5ECF6",
           "radialaxis": {
            "gridcolor": "white",
            "linecolor": "white",
            "ticks": ""
           }
          },
          "scene": {
           "xaxis": {
            "backgroundcolor": "#E5ECF6",
            "gridcolor": "white",
            "gridwidth": 2,
            "linecolor": "white",
            "showbackground": true,
            "ticks": "",
            "zerolinecolor": "white"
           },
           "yaxis": {
            "backgroundcolor": "#E5ECF6",
            "gridcolor": "white",
            "gridwidth": 2,
            "linecolor": "white",
            "showbackground": true,
            "ticks": "",
            "zerolinecolor": "white"
           },
           "zaxis": {
            "backgroundcolor": "#E5ECF6",
            "gridcolor": "white",
            "gridwidth": 2,
            "linecolor": "white",
            "showbackground": true,
            "ticks": "",
            "zerolinecolor": "white"
           }
          },
          "shapedefaults": {
           "line": {
            "color": "#2a3f5f"
           }
          },
          "ternary": {
           "aaxis": {
            "gridcolor": "white",
            "linecolor": "white",
            "ticks": ""
           },
           "baxis": {
            "gridcolor": "white",
            "linecolor": "white",
            "ticks": ""
           },
           "bgcolor": "#E5ECF6",
           "caxis": {
            "gridcolor": "white",
            "linecolor": "white",
            "ticks": ""
           }
          },
          "title": {
           "x": 0.05
          },
          "xaxis": {
           "automargin": true,
           "gridcolor": "white",
           "linecolor": "white",
           "ticks": "",
           "title": {
            "standoff": 15
           },
           "zerolinecolor": "white",
           "zerolinewidth": 2
          },
          "yaxis": {
           "automargin": true,
           "gridcolor": "white",
           "linecolor": "white",
           "ticks": "",
           "title": {
            "standoff": 15
           },
           "zerolinecolor": "white",
           "zerolinewidth": 2
          }
         }
        },
        "title": {
         "text": "Tuning Visualization - DecisionTreeRegressor"
        }
       }
      }
     },
     "metadata": {},
     "output_type": "display_data"
    },
    {
     "name": "stdout",
     "output_type": "stream",
     "text": [
      "\n",
      "🔤 String-to-Int Mappings for DecisionTreeRegressor:\n",
      " - max_depth: {None: 0, 5: 1, 10: 2}\n",
      " - min_samples_leaf: {1: 0, 2: 1}\n",
      " - min_samples_split: {2: 0, 4: 1, 6: 2}\n"
     ]
    },
    {
     "data": {
      "image/png": "[encoded data removed]",
      "text/plain": [
       "<Figure size 1400x600 with 2 Axes>"
      ]
     },
     "metadata": {},
     "output_type": "display_data"
    },
    {
     "name": "stdout",
     "output_type": "stream",
     "text": [
      "✅ Hoàn thành: DecisionTreeRegressor\n",
      "--------------------------------------------------\n"
     ]
    }
   ],
   "source": [
    "# Chạy tuning và trực quan hóa cho mô hình DecisionTreeRegressor\n",
    "\n",
    "name = \"DecisionTreeRegressor\"\n",
    "model = models[name]\n",
    "print(f\"🔍 Đang tuning mô hình: {name}...\")\n",
    "\n",
    "grid = GridSearchCV(model, param_grids[name], cv=5, scoring='neg_mean_squared_error', n_jobs=-1)\n",
    "grid.fit(x_train, y_train)\n",
    "\n",
    "y_pred = grid.predict(x_test)\n",
    "mse = mean_squared_error(y_test, y_pred)\n",
    "mae = mean_absolute_error(y_test, y_pred)\n",
    "r2 = r2_score(y_test, y_pred)\n",
    "\n",
    "print(f\"📌 {name}\")\n",
    "print(\"Best parameters:\", grid.best_params_)\n",
    "print(f\"Test MSE: {mse:.4f}\")\n",
    "print(f\"Test MAE: {mae:.4f}\")\n",
    "print(f\"Test R² : {r2:.4f}\")\n",
    "\n",
    "best_models[name] = grid.best_estimator_\n",
    "model_results[name] = {\n",
    "    \"MSE\": mse,\n",
    "    \"MAE\": mae,\n",
    "    \"R2\": r2\n",
    "}\n",
    "\n",
    "# Trực quan hóa kết quả tìm kiếm siêu tham số\n",
    "visualize_tuning_results(grid, model_name=name)\n",
    "\n",
    "# Trực quan hóa mức độ chính xác của mô hình khi dùng bộ tham số tối ưu và bộ tham số mặc định bằng cách so sánh giữa giá trị thực tế (y_test) và giá trị dự đoán (y_pred) thông qua biểu đồ phân tán.\n",
    "compare_default_and_tuned_models(x_train, x_test, y_train, y_test, grid.best_estimator_, model_name=name)\n",
    "\n",
    "print(f\"✅ Hoàn thành: {name}\\n{'-'*50}\")"
   ]
  },
  {
   "cell_type": "markdown",
   "id": "69zGhWeFdpDB",
   "metadata": {
    "id": "69zGhWeFdpDB"
   },
   "source": [
    "### 🧠 Câu hỏi phân tích\n",
    "1. Dựa trên biểu đồ, bạn thấy tổ hợp giá trị nào cho ra Loss thấp nhất?\n",
    "\n",
    "2. Có tham số nào dường như có ảnh hưởng lớn hơn đến xu hướng của hàm Loss so với các tham số khác không?\n",
    "\n",
    "3. Nêu một đường trong biểu đồ cho thấy một cấu hình tệ (Loss cao), nếu có. Bạn có thể xác định được tham số nào gây ra điều đó?\n",
    "\n",
    "4.  Khi lựa chọn bộ siêu tham số để huấn luyện mô hình, bộ tham số sẽ xoay quanh các giá trị siêu tham số là bao nhiêu? Vì sao"
   ]
  },
  {
   "cell_type": "markdown",
   "id": "327c5e06",
   "metadata": {},
   "source": [
    "Câu 1:\n",
    "- max_depth = 10 \n",
    "- min_samples_leaf = 2\n",
    "- min_samples_split = 6\n",
    "- 📈Loss ~ 27.115B"
   ]
  },
  {
   "cell_type": "markdown",
   "id": "2fcfd69e",
   "metadata": {},
   "source": [
    "Câu 2:  \n",
    "🔍 Phân tích các trục:\n",
    "- max_depth có vẻ ảnh hưởng rõ rệt nhất:\n",
    "    - Khi max_depth = 1 → đa phần là màu vàng (Loss rất cao ~41.818B)\n",
    "    - Khi max_depth = 2 → vẫn còn màu vàng, ít hơn\n",
    "    - Khi max_depth = 3 → hầu hết là màu tím và tím nhạt (Loss thấp)\n",
    "\n",
    "Điều này cho thấy độ sâu cây quyết định rất lớn đến khả năng dự đoán.\n",
    "\n",
    "📉 Ngược lại:\n",
    "\n",
    "- min_samples_leaf và min_samples_split ảnh hưởng nhỏ hơn, màu sắc không thay đổi nhiều dọc trục.\n",
    "\n",
    "🟡 Kết luận: max_depth ảnh hưởng nhiều nhất đến Loss."
   ]
  },
  {
   "cell_type": "markdown",
   "id": "41dc9759",
   "metadata": {},
   "source": [
    "Câu 3:  \n",
    "🔍 Đường màu vàng nhất (Loss ~ 41.818B) tương ứng với:\n",
    "\n",
    "- max_depth = 1\n",
    "- min_samples_leaf = 2\n",
    "- min_samples_split = 6\n",
    "\n",
    "🟡 Nguyên nhân:\n",
    "\n",
    "- max_depth = 1 làm cây quá nông → underfitting nghiêm trọng, không học được các phân tách phức tạp.\n",
    "\n",
    "🧨 Dù có thay đổi min_samples_leaf hay min_samples_split, nhưng nếu độ sâu chỉ là 1 thì vẫn không hiệu quả."
   ]
  },
  {
   "cell_type": "markdown",
   "id": "eedada8f",
   "metadata": {},
   "source": [
    "Câu 4:\n",
    "- max_depth:\t3 hoặc cao hơn\t-> Giảm rõ Loss, tránh underfitting\n",
    "- min_samples_leaf:\t1–2\t-> Các giá trị nhỏ hoạt động tốt hơn\n",
    "- min_samples_split:\t2–4\t-> Dễ chia nhỏ giúp cây linh hoạt hơn"
   ]
  },
  {
   "cell_type": "markdown",
   "id": "aebLIr0meWxM",
   "metadata": {
    "id": "aebLIr0meWxM"
   },
   "source": [
    "## Mô hình ***Ridge***"
   ]
  },
  {
   "cell_type": "code",
   "execution_count": 39,
   "id": "n0EuJYN0nNVW",
   "metadata": {
    "colab": {
     "base_uri": "https://localhost:8080/",
     "height": 1000
    },
    "id": "n0EuJYN0nNVW",
    "outputId": "05589123-0835-484f-b013-ba58a543b6ad"
   },
   "outputs": [
    {
     "name": "stdout",
     "output_type": "stream",
     "text": [
      "🔍 Đang tuning mô hình: Ridge...\n",
      "📌 Ridge\n",
      "Best parameters: {'alpha': 0.001, 'solver': 'auto'}\n",
      "Test MSE: 9405945341.4754\n",
      "Test MAE: 75146.1247\n",
      "Test R² : 0.8972\n"
     ]
    },
    {
     "data": {
      "application/vnd.plotly.v1+json": {
       "config": {
        "plotlyServerURL": "https://plot.ly"
       },
       "data": [
        {
         "dimensions": [
          {
           "label": "alpha",
           "values": {
            "bdata": "AAAAAQEBAgICAwMDBAQE",
            "dtype": "i1"
           }
          },
          {
           "label": "solver",
           "values": {
            "bdata": "AAECAAECAAECAAECAAEC",
            "dtype": "i1"
           }
          },
          {
           "label": "Loss",
           "values": {
            "bdata": "8LRpwHkcA0LytGnAeRwDQvC0acB5HANCwuy5k3ocA0LD7LmTehwDQsLsuZN6HANCqtgdcpkcA0Kq2B1ymRwDQqrYHXKZHANCPqxnyVcmA0I+rGfJVyYDQj6sZ8lXJgNCzQqfRC5CA0LNCp9ELkIDQs0Kn0QuQgNC",
            "dtype": "f8"
           }
          }
         ],
         "domain": {
          "x": [
           0,
           1
          ],
          "y": [
           0,
           1
          ]
         },
         "line": {
          "color": {
           "bdata": "8LRpwHkcA0LytGnAeRwDQvC0acB5HANCwuy5k3ocA0LD7LmTehwDQsLsuZN6HANCqtgdcpkcA0Kq2B1ymRwDQqrYHXKZHANCPqxnyVcmA0I+rGfJVyYDQj6sZ8lXJgNCzQqfRC5CA0LNCp9ELkIDQs0Kn0QuQgNC",
           "dtype": "f8"
          },
          "coloraxis": "coloraxis"
         },
         "name": "",
         "type": "parcoords"
        }
       ],
       "layout": {
        "coloraxis": {
         "colorbar": {
          "title": {
           "text": "Loss"
          }
         },
         "colorscale": [
          [
           0,
           "#0d0887"
          ],
          [
           0.1111111111111111,
           "#46039f"
          ],
          [
           0.2222222222222222,
           "#7201a8"
          ],
          [
           0.3333333333333333,
           "#9c179e"
          ],
          [
           0.4444444444444444,
           "#bd3786"
          ],
          [
           0.5555555555555556,
           "#d8576b"
          ],
          [
           0.6666666666666666,
           "#ed7953"
          ],
          [
           0.7777777777777778,
           "#fb9f3a"
          ],
          [
           0.8888888888888888,
           "#fdca26"
          ],
          [
           1,
           "#f0f921"
          ]
         ]
        },
        "legend": {
         "tracegroupgap": 0
        },
        "template": {
         "data": {
          "bar": [
           {
            "error_x": {
             "color": "#2a3f5f"
            },
            "error_y": {
             "color": "#2a3f5f"
            },
            "marker": {
             "line": {
              "color": "#E5ECF6",
              "width": 0.5
             },
             "pattern": {
              "fillmode": "overlay",
              "size": 10,
              "solidity": 0.2
             }
            },
            "type": "bar"
           }
          ],
          "barpolar": [
           {
            "marker": {
             "line": {
              "color": "#E5ECF6",
              "width": 0.5
             },
             "pattern": {
              "fillmode": "overlay",
              "size": 10,
              "solidity": 0.2
             }
            },
            "type": "barpolar"
           }
          ],
          "carpet": [
           {
            "aaxis": {
             "endlinecolor": "#2a3f5f",
             "gridcolor": "white",
             "linecolor": "white",
             "minorgridcolor": "white",
             "startlinecolor": "#2a3f5f"
            },
            "baxis": {
             "endlinecolor": "#2a3f5f",
             "gridcolor": "white",
             "linecolor": "white",
             "minorgridcolor": "white",
             "startlinecolor": "#2a3f5f"
            },
            "type": "carpet"
           }
          ],
          "choropleth": [
           {
            "colorbar": {
             "outlinewidth": 0,
             "ticks": ""
            },
            "type": "choropleth"
           }
          ],
          "contour": [
           {
            "colorbar": {
             "outlinewidth": 0,
             "ticks": ""
            },
            "colorscale": [
             [
              0,
              "#0d0887"
             ],
             [
              0.1111111111111111,
              "#46039f"
             ],
             [
              0.2222222222222222,
              "#7201a8"
             ],
             [
              0.3333333333333333,
              "#9c179e"
             ],
             [
              0.4444444444444444,
              "#bd3786"
             ],
             [
              0.5555555555555556,
              "#d8576b"
             ],
             [
              0.6666666666666666,
              "#ed7953"
             ],
             [
              0.7777777777777778,
              "#fb9f3a"
             ],
             [
              0.8888888888888888,
              "#fdca26"
             ],
             [
              1,
              "#f0f921"
             ]
            ],
            "type": "contour"
           }
          ],
          "contourcarpet": [
           {
            "colorbar": {
             "outlinewidth": 0,
             "ticks": ""
            },
            "type": "contourcarpet"
           }
          ],
          "heatmap": [
           {
            "colorbar": {
             "outlinewidth": 0,
             "ticks": ""
            },
            "colorscale": [
             [
              0,
              "#0d0887"
             ],
             [
              0.1111111111111111,
              "#46039f"
             ],
             [
              0.2222222222222222,
              "#7201a8"
             ],
             [
              0.3333333333333333,
              "#9c179e"
             ],
             [
              0.4444444444444444,
              "#bd3786"
             ],
             [
              0.5555555555555556,
              "#d8576b"
             ],
             [
              0.6666666666666666,
              "#ed7953"
             ],
             [
              0.7777777777777778,
              "#fb9f3a"
             ],
             [
              0.8888888888888888,
              "#fdca26"
             ],
             [
              1,
              "#f0f921"
             ]
            ],
            "type": "heatmap"
           }
          ],
          "histogram": [
           {
            "marker": {
             "pattern": {
              "fillmode": "overlay",
              "size": 10,
              "solidity": 0.2
             }
            },
            "type": "histogram"
           }
          ],
          "histogram2d": [
           {
            "colorbar": {
             "outlinewidth": 0,
             "ticks": ""
            },
            "colorscale": [
             [
              0,
              "#0d0887"
             ],
             [
              0.1111111111111111,
              "#46039f"
             ],
             [
              0.2222222222222222,
              "#7201a8"
             ],
             [
              0.3333333333333333,
              "#9c179e"
             ],
             [
              0.4444444444444444,
              "#bd3786"
             ],
             [
              0.5555555555555556,
              "#d8576b"
             ],
             [
              0.6666666666666666,
              "#ed7953"
             ],
             [
              0.7777777777777778,
              "#fb9f3a"
             ],
             [
              0.8888888888888888,
              "#fdca26"
             ],
             [
              1,
              "#f0f921"
             ]
            ],
            "type": "histogram2d"
           }
          ],
          "histogram2dcontour": [
           {
            "colorbar": {
             "outlinewidth": 0,
             "ticks": ""
            },
            "colorscale": [
             [
              0,
              "#0d0887"
             ],
             [
              0.1111111111111111,
              "#46039f"
             ],
             [
              0.2222222222222222,
              "#7201a8"
             ],
             [
              0.3333333333333333,
              "#9c179e"
             ],
             [
              0.4444444444444444,
              "#bd3786"
             ],
             [
              0.5555555555555556,
              "#d8576b"
             ],
             [
              0.6666666666666666,
              "#ed7953"
             ],
             [
              0.7777777777777778,
              "#fb9f3a"
             ],
             [
              0.8888888888888888,
              "#fdca26"
             ],
             [
              1,
              "#f0f921"
             ]
            ],
            "type": "histogram2dcontour"
           }
          ],
          "mesh3d": [
           {
            "colorbar": {
             "outlinewidth": 0,
             "ticks": ""
            },
            "type": "mesh3d"
           }
          ],
          "parcoords": [
           {
            "line": {
             "colorbar": {
              "outlinewidth": 0,
              "ticks": ""
             }
            },
            "type": "parcoords"
           }
          ],
          "pie": [
           {
            "automargin": true,
            "type": "pie"
           }
          ],
          "scatter": [
           {
            "fillpattern": {
             "fillmode": "overlay",
             "size": 10,
             "solidity": 0.2
            },
            "type": "scatter"
           }
          ],
          "scatter3d": [
           {
            "line": {
             "colorbar": {
              "outlinewidth": 0,
              "ticks": ""
             }
            },
            "marker": {
             "colorbar": {
              "outlinewidth": 0,
              "ticks": ""
             }
            },
            "type": "scatter3d"
           }
          ],
          "scattercarpet": [
           {
            "marker": {
             "colorbar": {
              "outlinewidth": 0,
              "ticks": ""
             }
            },
            "type": "scattercarpet"
           }
          ],
          "scattergeo": [
           {
            "marker": {
             "colorbar": {
              "outlinewidth": 0,
              "ticks": ""
             }
            },
            "type": "scattergeo"
           }
          ],
          "scattergl": [
           {
            "marker": {
             "colorbar": {
              "outlinewidth": 0,
              "ticks": ""
             }
            },
            "type": "scattergl"
           }
          ],
          "scattermap": [
           {
            "marker": {
             "colorbar": {
              "outlinewidth": 0,
              "ticks": ""
             }
            },
            "type": "scattermap"
           }
          ],
          "scattermapbox": [
           {
            "marker": {
             "colorbar": {
              "outlinewidth": 0,
              "ticks": ""
             }
            },
            "type": "scattermapbox"
           }
          ],
          "scatterpolar": [
           {
            "marker": {
             "colorbar": {
              "outlinewidth": 0,
              "ticks": ""
             }
            },
            "type": "scatterpolar"
           }
          ],
          "scatterpolargl": [
           {
            "marker": {
             "colorbar": {
              "outlinewidth": 0,
              "ticks": ""
             }
            },
            "type": "scatterpolargl"
           }
          ],
          "scatterternary": [
           {
            "marker": {
             "colorbar": {
              "outlinewidth": 0,
              "ticks": ""
             }
            },
            "type": "scatterternary"
           }
          ],
          "surface": [
           {
            "colorbar": {
             "outlinewidth": 0,
             "ticks": ""
            },
            "colorscale": [
             [
              0,
              "#0d0887"
             ],
             [
              0.1111111111111111,
              "#46039f"
             ],
             [
              0.2222222222222222,
              "#7201a8"
             ],
             [
              0.3333333333333333,
              "#9c179e"
             ],
             [
              0.4444444444444444,
              "#bd3786"
             ],
             [
              0.5555555555555556,
              "#d8576b"
             ],
             [
              0.6666666666666666,
              "#ed7953"
             ],
             [
              0.7777777777777778,
              "#fb9f3a"
             ],
             [
              0.8888888888888888,
              "#fdca26"
             ],
             [
              1,
              "#f0f921"
             ]
            ],
            "type": "surface"
           }
          ],
          "table": [
           {
            "cells": {
             "fill": {
              "color": "#EBF0F8"
             },
             "line": {
              "color": "white"
             }
            },
            "header": {
             "fill": {
              "color": "#C8D4E3"
             },
             "line": {
              "color": "white"
             }
            },
            "type": "table"
           }
          ]
         },
         "layout": {
          "annotationdefaults": {
           "arrowcolor": "#2a3f5f",
           "arrowhead": 0,
           "arrowwidth": 1
          },
          "autotypenumbers": "strict",
          "coloraxis": {
           "colorbar": {
            "outlinewidth": 0,
            "ticks": ""
           }
          },
          "colorscale": {
           "diverging": [
            [
             0,
             "#8e0152"
            ],
            [
             0.1,
             "#c51b7d"
            ],
            [
             0.2,
             "#de77ae"
            ],
            [
             0.3,
             "#f1b6da"
            ],
            [
             0.4,
             "#fde0ef"
            ],
            [
             0.5,
             "#f7f7f7"
            ],
            [
             0.6,
             "#e6f5d0"
            ],
            [
             0.7,
             "#b8e186"
            ],
            [
             0.8,
             "#7fbc41"
            ],
            [
             0.9,
             "#4d9221"
            ],
            [
             1,
             "#276419"
            ]
           ],
           "sequential": [
            [
             0,
             "#0d0887"
            ],
            [
             0.1111111111111111,
             "#46039f"
            ],
            [
             0.2222222222222222,
             "#7201a8"
            ],
            [
             0.3333333333333333,
             "#9c179e"
            ],
            [
             0.4444444444444444,
             "#bd3786"
            ],
            [
             0.5555555555555556,
             "#d8576b"
            ],
            [
             0.6666666666666666,
             "#ed7953"
            ],
            [
             0.7777777777777778,
             "#fb9f3a"
            ],
            [
             0.8888888888888888,
             "#fdca26"
            ],
            [
             1,
             "#f0f921"
            ]
           ],
           "sequentialminus": [
            [
             0,
             "#0d0887"
            ],
            [
             0.1111111111111111,
             "#46039f"
            ],
            [
             0.2222222222222222,
             "#7201a8"
            ],
            [
             0.3333333333333333,
             "#9c179e"
            ],
            [
             0.4444444444444444,
             "#bd3786"
            ],
            [
             0.5555555555555556,
             "#d8576b"
            ],
            [
             0.6666666666666666,
             "#ed7953"
            ],
            [
             0.7777777777777778,
             "#fb9f3a"
            ],
            [
             0.8888888888888888,
             "#fdca26"
            ],
            [
             1,
             "#f0f921"
            ]
           ]
          },
          "colorway": [
           "#636efa",
           "#EF553B",
           "#00cc96",
           "#ab63fa",
           "#FFA15A",
           "#19d3f3",
           "#FF6692",
           "#B6E880",
           "#FF97FF",
           "#FECB52"
          ],
          "font": {
           "color": "#2a3f5f"
          },
          "geo": {
           "bgcolor": "white",
           "lakecolor": "white",
           "landcolor": "#E5ECF6",
           "showlakes": true,
           "showland": true,
           "subunitcolor": "white"
          },
          "hoverlabel": {
           "align": "left"
          },
          "hovermode": "closest",
          "mapbox": {
           "style": "light"
          },
          "paper_bgcolor": "white",
          "plot_bgcolor": "#E5ECF6",
          "polar": {
           "angularaxis": {
            "gridcolor": "white",
            "linecolor": "white",
            "ticks": ""
           },
           "bgcolor": "#E5ECF6",
           "radialaxis": {
            "gridcolor": "white",
            "linecolor": "white",
            "ticks": ""
           }
          },
          "scene": {
           "xaxis": {
            "backgroundcolor": "#E5ECF6",
            "gridcolor": "white",
            "gridwidth": 2,
            "linecolor": "white",
            "showbackground": true,
            "ticks": "",
            "zerolinecolor": "white"
           },
           "yaxis": {
            "backgroundcolor": "#E5ECF6",
            "gridcolor": "white",
            "gridwidth": 2,
            "linecolor": "white",
            "showbackground": true,
            "ticks": "",
            "zerolinecolor": "white"
           },
           "zaxis": {
            "backgroundcolor": "#E5ECF6",
            "gridcolor": "white",
            "gridwidth": 2,
            "linecolor": "white",
            "showbackground": true,
            "ticks": "",
            "zerolinecolor": "white"
           }
          },
          "shapedefaults": {
           "line": {
            "color": "#2a3f5f"
           }
          },
          "ternary": {
           "aaxis": {
            "gridcolor": "white",
            "linecolor": "white",
            "ticks": ""
           },
           "baxis": {
            "gridcolor": "white",
            "linecolor": "white",
            "ticks": ""
           },
           "bgcolor": "#E5ECF6",
           "caxis": {
            "gridcolor": "white",
            "linecolor": "white",
            "ticks": ""
           }
          },
          "title": {
           "x": 0.05
          },
          "xaxis": {
           "automargin": true,
           "gridcolor": "white",
           "linecolor": "white",
           "ticks": "",
           "title": {
            "standoff": 15
           },
           "zerolinecolor": "white",
           "zerolinewidth": 2
          },
          "yaxis": {
           "automargin": true,
           "gridcolor": "white",
           "linecolor": "white",
           "ticks": "",
           "title": {
            "standoff": 15
           },
           "zerolinecolor": "white",
           "zerolinewidth": 2
          }
         }
        },
        "title": {
         "text": "Tuning Visualization - Ridge"
        }
       }
      }
     },
     "metadata": {},
     "output_type": "display_data"
    },
    {
     "name": "stdout",
     "output_type": "stream",
     "text": [
      "\n",
      "🔤 String-to-Int Mappings for Ridge:\n",
      " - alpha: {0.001: 0, 0.01: 1, 0.1: 2, 1: 3, 2: 4}\n",
      " - solver: {'auto': 0, 'svd': 1, 'cholesky': 2}\n"
     ]
    },
    {
     "data": {
      "image/png": "[encoded data removed]",
      "text/plain": [
       "<Figure size 1400x600 with 2 Axes>"
      ]
     },
     "metadata": {},
     "output_type": "display_data"
    },
    {
     "name": "stdout",
     "output_type": "stream",
     "text": [
      "✅ Hoàn thành: Ridge\n",
      "--------------------------------------------------\n"
     ]
    }
   ],
   "source": [
    "# Chạy tuning và trực quan hóa cho mô hình Ridge\n",
    "\n",
    "name = \"Ridge\"\n",
    "model = models[name]\n",
    "print(f\"🔍 Đang tuning mô hình: {name}...\")\n",
    "\n",
    "grid = GridSearchCV(model, param_grids[name], cv=5, scoring='neg_mean_squared_error', n_jobs=-1)\n",
    "grid.fit(x_train, y_train)\n",
    "\n",
    "y_pred = grid.predict(x_test)\n",
    "mse = mean_squared_error(y_test, y_pred)\n",
    "mae = mean_absolute_error(y_test, y_pred)\n",
    "r2 = r2_score(y_test, y_pred)\n",
    "\n",
    "print(f\"📌 {name}\")\n",
    "print(\"Best parameters:\", grid.best_params_)\n",
    "print(f\"Test MSE: {mse:.4f}\")\n",
    "print(f\"Test MAE: {mae:.4f}\")\n",
    "print(f\"Test R² : {r2:.4f}\")\n",
    "model_results[name] = {\n",
    "    \"MSE\": mse,\n",
    "    \"MAE\": mae,\n",
    "    \"R2\": r2\n",
    "}\n",
    "\n",
    "best_models[name] = grid.best_estimator_\n",
    "model_results[name] = {\n",
    "    \"MSE\": mse,\n",
    "    \"MAE\": mae,\n",
    "    \"R2\": r2\n",
    "}\n",
    "\n",
    "# Trực quan hóa kết quả tìm kiếm siêu tham số\n",
    "visualize_tuning_results(grid, model_name=name)\n",
    "\n",
    "# Trực quan hóa mức độ chính xác của mô hình khi dùng bộ tham số tối ưu và bộ tham số mặc định bằng cách so sánh giữa giá trị thực tế (y_test) và giá trị dự đoán (y_pred) thông qua biểu đồ phân tán.\n",
    "compare_default_and_tuned_models(x_train, x_test, y_train, y_test, grid.best_estimator_, model_name=name)\n",
    "\n",
    "\n",
    "print(f\"✅ Hoàn thành: {name}\\n{'-'*50}\")"
   ]
  },
  {
   "cell_type": "markdown",
   "id": "irLOdxxTdkKa",
   "metadata": {
    "id": "irLOdxxTdkKa"
   },
   "source": [
    "### 🧠 Câu hỏi phân tích\n",
    "1. Dựa trên biểu đồ, bạn thấy tổ hợp giá trị nào cho ra Loss thấp nhất?\n",
    "\n",
    "2. Có tham số nào dường như có ảnh hưởng lớn hơn đến xu hướng của hàm Loss so với các tham số khác không?\n",
    "\n",
    "3. Nêu một đường trong biểu đồ cho thấy một cấu hình tệ (Loss cao), nếu có. Bạn có thể xác định được tham số nào gây ra điều đó?\n",
    "\n",
    "4.  Khi lựa chọn bộ siêu tham số để huấn luyện mô hình, bộ siêu tham số sẽ xoay quanh các giá trị tham số là bao nhiêu? Vì sao"
   ]
  },
  {
   "cell_type": "markdown",
   "id": "e307b84d",
   "metadata": {},
   "source": [
    "Câu 1:\n",
    "- alpha: 0.001\n",
    "- solver: 'auto'  \n",
    "- 📉 Loss ~ 10.260265B"
   ]
  },
  {
   "cell_type": "markdown",
   "id": "6a894475",
   "metadata": {},
   "source": [
    "Câu 2:   \n",
    "🔍 So sánh sự thay đổi màu sắc khi di chuyển dọc theo từng trục, alpha ảnh hưởng mạnh nhất:\n",
    "\n",
    "- Khi alpha = 2 → đa phần là màu vàng (Loss cao)\n",
    "\n",
    "- Khi alpha giảm xuống 0.001 → màu xanh đậm (Loss thấp nhất)\n",
    "\n",
    "- Màu chuyển từ vàng → tím → xanh đậm rõ ràng theo trục alpha\n",
    "\n",
    "- solver thay đổi nhưng không tạo ra sự khác biệt lớn về màu sắc\n",
    "\n",
    "🟡 Kết luận: alpha có ảnh hưởng lớn hơn đến Loss so với solver"
   ]
  },
  {
   "cell_type": "markdown",
   "id": "ece39f48",
   "metadata": {},
   "source": [
    "Câu 3:  \n",
    "🔍 Quan sát một trong các đường màu vàng nhất (Loss ~ 10.339338B), ta thấy:\n",
    "- alpha = 2\n",
    "- solver = 'cholesky' (ứng với 2)\n",
    "🧨 Nguyên nhân chính: alpha quá lớn → mô hình bị regularize quá mạnh → underfitting dữ liệu"
   ]
  },
  {
   "cell_type": "markdown",
   "id": "043552fa",
   "metadata": {},
   "source": [
    "Câu 4:\n",
    "- alpha:\t0.001 → 0.1\t -> Giảm rõ Loss, tránh over-regularization\n",
    "- solver:\tauto, svd\t-> Cho kết quả ổn định, không chênh lệch nhiều"
   ]
  },
  {
   "cell_type": "markdown",
   "id": "2lg4a1hTeatx",
   "metadata": {
    "id": "2lg4a1hTeatx"
   },
   "source": [
    "## So sánh kết quả của các mô hình"
   ]
  },
  {
   "cell_type": "code",
   "execution_count": 40,
   "id": "Wn18TTWG4l3g",
   "metadata": {
    "colab": {
     "base_uri": "https://localhost:8080/",
     "height": 498
    },
    "id": "Wn18TTWG4l3g",
    "outputId": "25bf3991-d18a-49f6-e4b3-b2ae5a3f8992"
   },
   "outputs": [
    {
     "data": {
      "image/png": "[encoded data removed]",
      "text/plain": [
       "<Figure size 1400x500 with 2 Axes>"
      ]
     },
     "metadata": {},
     "output_type": "display_data"
    }
   ],
   "source": [
    "import matplotlib.pyplot as plt\n",
    "import pandas as pd\n",
    "\n",
    "# Chuyển sang DataFrame\n",
    "df_metrics = pd.DataFrame(model_results).T\n",
    "df_metrics_sorted = df_metrics.sort_values(by='MAE')\n",
    "fig, axes = plt.subplots(1, 2, figsize=(14, 5))\n",
    "\n",
    "# Biểu đồ MSE\n",
    "df_metrics_sorted['MSE'].plot(kind='bar', ax=axes[1], title='So sánh MSE Loss')\n",
    "axes[1].set_ylabel('MSE')\n",
    "axes[1].set_xticklabels(df_metrics_sorted.index, rotation=45, ha='right')\n",
    "axes[1].grid(True)\n",
    "\n",
    "# Biểu đồ MAE\n",
    "df_metrics_sorted['MAE'].plot(kind='bar', ax=axes[0], title='So sánh MAE Loss')\n",
    "axes[0].set_ylabel('MAE')\n",
    "axes[0].set_xticklabels(df_metrics_sorted.index, rotation=45, ha='right')\n",
    "axes[0].grid(True)\n",
    "\n",
    "plt.tight_layout()\n",
    "plt.show()\n"
   ]
  },
  {
   "cell_type": "code",
   "execution_count": 41,
   "id": "8d021709",
   "metadata": {},
   "outputs": [
    {
     "name": "stdout",
     "output_type": "stream",
     "text": [
      "\n",
      "📊 Tổng hợp đánh giá các mô hình:\n"
     ]
    },
    {
     "data": {
      "text/html": [
       "<div>\n",
       "<style scoped>\n",
       "    .dataframe tbody tr th:only-of-type {\n",
       "        vertical-align: middle;\n",
       "    }\n",
       "\n",
       "    .dataframe tbody tr th {\n",
       "        vertical-align: top;\n",
       "    }\n",
       "\n",
       "    .dataframe thead th {\n",
       "        text-align: right;\n",
       "    }\n",
       "</style>\n",
       "<table border=\"1\" class=\"dataframe\">\n",
       "  <thead>\n",
       "    <tr style=\"text-align: right;\">\n",
       "      <th></th>\n",
       "      <th>SVR</th>\n",
       "      <th>KNeighborsRegressor</th>\n",
       "      <th>RandomForestRegressor</th>\n",
       "      <th>DecisionTreeRegressor</th>\n",
       "      <th>Ridge</th>\n",
       "    </tr>\n",
       "  </thead>\n",
       "  <tbody>\n",
       "    <tr>\n",
       "      <th>MSE</th>\n",
       "      <td>9.396052e+09</td>\n",
       "      <td>3.402033e+10</td>\n",
       "      <td>1.281224e+10</td>\n",
       "      <td>2.610444e+10</td>\n",
       "      <td>9.405945e+09</td>\n",
       "    </tr>\n",
       "    <tr>\n",
       "      <th>MAE</th>\n",
       "      <td>7.500201e+04</td>\n",
       "      <td>1.459174e+05</td>\n",
       "      <td>7.905561e+04</td>\n",
       "      <td>1.303624e+05</td>\n",
       "      <td>7.514612e+04</td>\n",
       "    </tr>\n",
       "    <tr>\n",
       "      <th>R2</th>\n",
       "      <td>8.973050e-01</td>\n",
       "      <td>6.281717e-01</td>\n",
       "      <td>8.599674e-01</td>\n",
       "      <td>7.146890e-01</td>\n",
       "      <td>8.971968e-01</td>\n",
       "    </tr>\n",
       "  </tbody>\n",
       "</table>\n",
       "</div>"
      ],
      "text/plain": [
       "              SVR  KNeighborsRegressor  RandomForestRegressor  \\\n",
       "MSE  9.396052e+09         3.402033e+10           1.281224e+10   \n",
       "MAE  7.500201e+04         1.459174e+05           7.905561e+04   \n",
       "R2   8.973050e-01         6.281717e-01           8.599674e-01   \n",
       "\n",
       "     DecisionTreeRegressor         Ridge  \n",
       "MSE           2.610444e+10  9.405945e+09  \n",
       "MAE           1.303624e+05  7.514612e+04  \n",
       "R2            7.146890e-01  8.971968e-01  "
      ]
     },
     "metadata": {},
     "output_type": "display_data"
    }
   ],
   "source": [
    "summary_df = pd.DataFrame(model_results)\n",
    "print(\"\\n📊 Tổng hợp đánh giá các mô hình:\")\n",
    "display(summary_df)\n"
   ]
  },
  {
   "cell_type": "markdown",
   "id": "a66b001a",
   "metadata": {},
   "source": [
    "Kết luận: nên chọn mô hình:\n",
    "- Ridge Regression với alpha = 0.001, solver = 'auto'\n",
    "\n",
    "Lý do:\n",
    "\n",
    "- Hiệu suất tốt gần tương đương hoặc bằng với mô hình tốt nhất (SVR)\n",
    "- Dễ huấn luyện, dễ triển khai, ít rủi ro overfitting hơn các cây\n",
    "- Rất nhanh và đáng tin cậy cho dữ liệu tuyến tính hoặc gần tuyến tính"
   ]
  }
 ],
 "metadata": {
  "colab": {
   "provenance": []
  },
  "kernelspec": {
   "display_name": "Python 3",
   "name": "python3"
  },
  "language_info": {
   "codemirror_mode": {
    "name": "ipython",
    "version": 3
   },
   "file_extension": ".py",
   "mimetype": "text/x-python",
   "name": "python",
   "nbconvert_exporter": "python",
   "pygments_lexer": "ipython3",
   "version": "3.11.4"
  }
 },
 "nbformat": 4,
 "nbformat_minor": 5
}
